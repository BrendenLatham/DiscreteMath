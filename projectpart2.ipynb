{
  "nbformat": 4,
  "nbformat_minor": 0,
  "metadata": {
    "colab": {
      "name": "Untitled1.ipynb",
      "provenance": [],
      "include_colab_link": true
    },
    "kernelspec": {
      "name": "python3",
      "display_name": "Python 3"
    },
    "language_info": {
      "name": "python"
    }
  },
  "cells": [
    {
      "cell_type": "markdown",
      "metadata": {
        "id": "view-in-github",
        "colab_type": "text"
      },
      "source": [
        "<a href=\"https://colab.research.google.com/github/BrendenLatham/DiscreteMath/blob/main/projectpart2.ipynb\" target=\"_parent\"><img src=\"https://colab.research.google.com/assets/colab-badge.svg\" alt=\"Open In Colab\"/></a>"
      ]
    },
    {
      "cell_type": "markdown",
      "source": [
        "# Project Part 1 : CPSMA 3133 [Dr. Jacob's](https://github.com/nurfnick) Discrete Mathematics \n",
        "\n",
        "## A Set Of Cards\n",
        "\n",
        "### Brenden Latham 245775\n"
      ],
      "metadata": {
        "id": "jPVzCqNXxbCp"
      }
    },
    {
      "cell_type": "markdown",
      "source": [
        "For This project I am going to use sets containing playing cards.\n",
        "The cards will be represented by two digit identifiers with the first digit being the value and the second being the suit."
      ],
      "metadata": {
        "id": "fds6LdMdzz1h"
      }
    },
    {
      "cell_type": "markdown",
      "source": [
        "Spade: -S   \n",
        "Club: -C   \n",
        "Heart: -H   \n",
        "Diamond: -D\n",
        "\n",
        "A two of hearts will be represented by 2-H, while a Jack of Clubs will be J-C."
      ],
      "metadata": {
        "id": "vHfqs64e0QLN"
      }
    },
    {
      "cell_type": "markdown",
      "source": [
        "There will be three sets:\n",
        "Face: the set of all face cards (no, an ace isn't a face card)\n",
        "Value: The set of all cards with a value of 7 or greater\n",
        "Black: The set of all black cards\n",
        "and of course the universal set (U) will be the set of all cards in a deck"
      ],
      "metadata": {
        "id": "_vxp8o2Z1RR0"
      }
    },
    {
      "cell_type": "code",
      "source": [
        "Face = {'J-S','Q-S','K-S','J-C','Q-C','K-C','J-H','Q-H','K-H','J-D','Q-D','K-D'}\n",
        "Value = {'7-S','8-S','9-S','10-S','J-S','Q-S','K-S','A-S','7-C','8-C','9-C','10-C','J-C','Q-C','K-C','A-C','7-H','8-H','9-H','10-H','J-H','Q-H','K-H','A-H','7-D','8-D','9-D','10-D','J-D','Q-D','K-D','A-D'}\n",
        "Black = {'2-S','3-S','4-S','5-S','6-S','7-S','8-S','9-S','10-S','J-S','Q-S','K-S','A-S','2-C','3-C','4-C','5-C','6-C','7-C','8-C','9-C','10-C','J-C','Q-C','K-C','A-C'}\n",
        "U = {'2-S','3-S','4-S','5-S','6-S','7-S','8-S','9-S','10-S','J-S','Q-S','K-S','A-S','2-C','3-C','4-C','5-C','6-C','7-C','8-C','9-C','10-C','J-C','Q-C','K-C','A-C','2-H','3-H','4-H','5-H','6-H','7-H','8-H','9-H','10-H','J-H','Q-H','K-H','A-H','2-D','3-D','4-D','5-D','6-D','7-D','8-D','9-D','10-D','J-D','Q-D','K-D','A-D'}"
      ],
      "metadata": {
        "id": "2E4XWRPx2hKO"
      },
      "execution_count": 2,
      "outputs": []
    },
    {
      "cell_type": "markdown",
      "source": [
        "### Now for some unions and intersections"
      ],
      "metadata": {
        "id": "nSt5QGAz7anB"
      }
    },
    {
      "cell_type": "code",
      "source": [
        "print('Face U Value =', Face.union(Value))"
      ],
      "metadata": {
        "colab": {
          "base_uri": "https://localhost:8080/"
        },
        "id": "B6I3QAT67eux",
        "outputId": "5673e4aa-0176-4f41-fa3b-aae75276fd9f"
      },
      "execution_count": 3,
      "outputs": [
        {
          "output_type": "stream",
          "name": "stdout",
          "text": [
            "Face U Value = {'K-H', 'K-C', '10-D', '8-H', 'Q-C', 'A-D', 'Q-D', 'A-C', '7-C', '7-H', 'Q-S', '8-C', 'A-H', '7-D', '9-D', 'Q-H', 'K-S', '8-D', 'A-S', '9-S', 'J-H', '10-C', 'J-C', 'J-D', '10-S', '10-H', '8-S', 'K-D', '9-H', 'J-S', '9-C', '7-S'}\n"
          ]
        }
      ]
    },
    {
      "cell_type": "markdown",
      "source": [
        "This returns Value because Face is a subset of Value"
      ],
      "metadata": {
        "id": "nr1r6u7j71oJ"
      }
    },
    {
      "cell_type": "code",
      "source": [
        "print('Face U Black =', Face.union(Black))"
      ],
      "metadata": {
        "colab": {
          "base_uri": "https://localhost:8080/"
        },
        "id": "KA-xjMNd8RYy",
        "outputId": "18bcfac9-62df-48b8-fe20-a7e739e77d30"
      },
      "execution_count": 4,
      "outputs": [
        {
          "output_type": "stream",
          "name": "stdout",
          "text": [
            "Face U Black = {'5-C', 'K-H', 'K-C', 'Q-C', 'Q-D', 'A-C', '7-C', '3-C', 'Q-S', '8-C', '2-C', 'Q-H', 'K-S', '4-C', 'A-S', '4-S', '9-S', '5-S', 'J-H', '6-S', '10-C', 'J-C', 'J-D', '10-S', '6-C', '8-S', 'K-D', '2-S', '3-S', 'J-S', '9-C', '7-S'}\n"
          ]
        }
      ]
    },
    {
      "cell_type": "markdown",
      "source": [
        "This gives us all cards that are either black or a face card"
      ],
      "metadata": {
        "id": "UMaCM0gw8cp9"
      }
    },
    {
      "cell_type": "code",
      "source": [
        "print('Value U Black =', Value.union(Black))"
      ],
      "metadata": {
        "colab": {
          "base_uri": "https://localhost:8080/"
        },
        "id": "wohw08Sd8owk",
        "outputId": "dd85a52d-a175-4ae8-f818-98d9dc838afc"
      },
      "execution_count": 5,
      "outputs": [
        {
          "output_type": "stream",
          "name": "stdout",
          "text": [
            "Value U Black = {'5-C', 'K-H', 'K-C', '10-D', '8-H', 'Q-C', 'A-D', 'Q-D', 'A-C', '7-C', '7-H', '3-C', 'Q-S', '8-C', 'A-H', '7-D', '9-D', '2-C', 'Q-H', 'K-S', '8-D', '4-C', 'A-S', '4-S', '9-S', '5-S', 'J-H', '6-S', '10-C', 'J-C', '10-S', 'J-D', '6-C', '10-H', '8-S', '9-H', 'K-D', '2-S', '3-S', 'J-S', '9-C', '7-S'}\n"
          ]
        }
      ]
    },
    {
      "cell_type": "markdown",
      "source": [
        "Here we have all cards that are either black or greater than 6"
      ],
      "metadata": {
        "id": "dfrz67qY8x7f"
      }
    },
    {
      "cell_type": "code",
      "source": [
        "Face.intersection(Value)"
      ],
      "metadata": {
        "colab": {
          "base_uri": "https://localhost:8080/"
        },
        "id": "bIHEFpELATgU",
        "outputId": "425eb031-37d5-498b-e175-2f8429e570cd"
      },
      "execution_count": 6,
      "outputs": [
        {
          "output_type": "execute_result",
          "data": {
            "text/plain": [
              "{'J-C',\n",
              " 'J-D',\n",
              " 'J-H',\n",
              " 'J-S',\n",
              " 'K-C',\n",
              " 'K-D',\n",
              " 'K-H',\n",
              " 'K-S',\n",
              " 'Q-C',\n",
              " 'Q-D',\n",
              " 'Q-H',\n",
              " 'Q-S'}"
            ]
          },
          "metadata": {},
          "execution_count": 6
        }
      ]
    },
    {
      "cell_type": "markdown",
      "source": [
        "Here the intersection of Face and Value returns Face, once again because Face is a subset of Value"
      ],
      "metadata": {
        "id": "W-7hQ8mwBHAv"
      }
    },
    {
      "cell_type": "code",
      "source": [
        "Face.intersection(Black)"
      ],
      "metadata": {
        "colab": {
          "base_uri": "https://localhost:8080/"
        },
        "id": "vOdgHeb_BQAa",
        "outputId": "e0b98cf8-2065-4bb4-f5f8-2e58278a3e31"
      },
      "execution_count": 7,
      "outputs": [
        {
          "output_type": "execute_result",
          "data": {
            "text/plain": [
              "{'J-C', 'J-S', 'K-C', 'K-S', 'Q-C', 'Q-S'}"
            ]
          },
          "metadata": {},
          "execution_count": 7
        }
      ]
    },
    {
      "cell_type": "markdown",
      "source": [
        "The intersection of Face and Black gives us the black face cards"
      ],
      "metadata": {
        "id": "8uIUClBABXYb"
      }
    },
    {
      "cell_type": "code",
      "source": [
        "Value.intersection(Black)"
      ],
      "metadata": {
        "colab": {
          "base_uri": "https://localhost:8080/"
        },
        "id": "RnxLSfktBeul",
        "outputId": "a8dd7546-23eb-474b-da62-ea2dff62aac2"
      },
      "execution_count": 8,
      "outputs": [
        {
          "output_type": "execute_result",
          "data": {
            "text/plain": [
              "{'10-C',\n",
              " '10-S',\n",
              " '7-C',\n",
              " '7-S',\n",
              " '8-C',\n",
              " '8-S',\n",
              " '9-C',\n",
              " '9-S',\n",
              " 'A-C',\n",
              " 'A-S',\n",
              " 'J-C',\n",
              " 'J-S',\n",
              " 'K-C',\n",
              " 'K-S',\n",
              " 'Q-C',\n",
              " 'Q-S'}"
            ]
          },
          "metadata": {},
          "execution_count": 8
        }
      ]
    },
    {
      "cell_type": "markdown",
      "source": [
        "And lastly the intersection of Value and Black gives us all the black cards greater than 6"
      ],
      "metadata": {
        "id": "fKR1hdxHBk5A"
      }
    },
    {
      "cell_type": "markdown",
      "source": [
        "### How about some compliments"
      ],
      "metadata": {
        "id": "gK77rje8CJZD"
      }
    },
    {
      "cell_type": "markdown",
      "source": [
        "first the compliment of Face"
      ],
      "metadata": {
        "id": "L1BY6GGuCjrV"
      }
    },
    {
      "cell_type": "code",
      "source": [
        "U-Face"
      ],
      "metadata": {
        "colab": {
          "base_uri": "https://localhost:8080/"
        },
        "id": "XHaDvqbPCb06",
        "outputId": "1e4c9548-9414-4d88-e81e-56dbf55b108f"
      },
      "execution_count": 9,
      "outputs": [
        {
          "output_type": "execute_result",
          "data": {
            "text/plain": [
              "{'10-C',\n",
              " '10-D',\n",
              " '10-H',\n",
              " '10-S',\n",
              " '2-C',\n",
              " '2-D',\n",
              " '2-H',\n",
              " '2-S',\n",
              " '3-C',\n",
              " '3-D',\n",
              " '3-H',\n",
              " '3-S',\n",
              " '4-C',\n",
              " '4-D',\n",
              " '4-H',\n",
              " '4-S',\n",
              " '5-C',\n",
              " '5-D',\n",
              " '5-H',\n",
              " '5-S',\n",
              " '6-C',\n",
              " '6-D',\n",
              " '6-H',\n",
              " '6-S',\n",
              " '7-C',\n",
              " '7-D',\n",
              " '7-H',\n",
              " '7-S',\n",
              " '8-C',\n",
              " '8-D',\n",
              " '8-H',\n",
              " '8-S',\n",
              " '9-C',\n",
              " '9-D',\n",
              " '9-H',\n",
              " '9-S',\n",
              " 'A-C',\n",
              " 'A-D',\n",
              " 'A-H',\n",
              " 'A-S'}"
            ]
          },
          "metadata": {},
          "execution_count": 9
        }
      ]
    },
    {
      "cell_type": "markdown",
      "source": [
        "That gave us all the non-face cards"
      ],
      "metadata": {
        "id": "tvTjjyWjCmng"
      }
    },
    {
      "cell_type": "markdown",
      "source": [
        "Now lets look at Value's compliment"
      ],
      "metadata": {
        "id": "bNoHKcNJCpzS"
      }
    },
    {
      "cell_type": "code",
      "source": [
        "U-Value"
      ],
      "metadata": {
        "colab": {
          "base_uri": "https://localhost:8080/"
        },
        "id": "KjQ-8agZCtfj",
        "outputId": "1ecf3d10-09fa-46bc-a017-44f4ac3606f4"
      },
      "execution_count": 10,
      "outputs": [
        {
          "output_type": "execute_result",
          "data": {
            "text/plain": [
              "{'2-C',\n",
              " '2-D',\n",
              " '2-H',\n",
              " '2-S',\n",
              " '3-C',\n",
              " '3-D',\n",
              " '3-H',\n",
              " '3-S',\n",
              " '4-C',\n",
              " '4-D',\n",
              " '4-H',\n",
              " '4-S',\n",
              " '5-C',\n",
              " '5-D',\n",
              " '5-H',\n",
              " '5-S',\n",
              " '6-C',\n",
              " '6-D',\n",
              " '6-H',\n",
              " '6-S'}"
            ]
          },
          "metadata": {},
          "execution_count": 10
        }
      ]
    },
    {
      "cell_type": "markdown",
      "source": [
        "This gives us all cards with a value of less than 7 except Aces. Aces have a value of both 1 and 11. While they are less than 7, they are also greater. They are included in the Value set, thus won't show up in Value^c. So while Value is all cards > 6, Value^c is not all vards <= 6"
      ],
      "metadata": {
        "id": "PPDEzzr-C5lT"
      }
    },
    {
      "cell_type": "markdown",
      "source": [
        "Not for the compliment of black"
      ],
      "metadata": {
        "id": "DdcMfDolDxQe"
      }
    },
    {
      "cell_type": "code",
      "source": [
        "U-Black"
      ],
      "metadata": {
        "colab": {
          "base_uri": "https://localhost:8080/"
        },
        "id": "bZq8U2HCD2lq",
        "outputId": "f2bf8b2b-7606-4ec3-bd34-ba03a24475c7"
      },
      "execution_count": 11,
      "outputs": [
        {
          "output_type": "execute_result",
          "data": {
            "text/plain": [
              "{'10-D',\n",
              " '10-H',\n",
              " '2-D',\n",
              " '2-H',\n",
              " '3-D',\n",
              " '3-H',\n",
              " '4-D',\n",
              " '4-H',\n",
              " '5-D',\n",
              " '5-H',\n",
              " '6-D',\n",
              " '6-H',\n",
              " '7-D',\n",
              " '7-H',\n",
              " '8-D',\n",
              " '8-H',\n",
              " '9-D',\n",
              " '9-H',\n",
              " 'A-D',\n",
              " 'A-H',\n",
              " 'J-D',\n",
              " 'J-H',\n",
              " 'K-D',\n",
              " 'K-H',\n",
              " 'Q-D',\n",
              " 'Q-H'}"
            ]
          },
          "metadata": {},
          "execution_count": 11
        }
      ]
    },
    {
      "cell_type": "markdown",
      "source": [
        "Here we have all the red cards (diamonds and hearts)"
      ],
      "metadata": {
        "id": "UBQvXhxpD6Gs"
      }
    },
    {
      "cell_type": "markdown",
      "source": [
        "Lastly lets see what it takes to get all red cards of value less than 7"
      ],
      "metadata": {
        "id": "h7XW0oXVEdU3"
      }
    },
    {
      "cell_type": "code",
      "source": [
        "(U-Value).intersection(U-Black)"
      ],
      "metadata": {
        "colab": {
          "base_uri": "https://localhost:8080/"
        },
        "id": "VX_zgcd0EkwA",
        "outputId": "3ef8c780-44de-4d15-8c23-a255fe239b7d"
      },
      "execution_count": 12,
      "outputs": [
        {
          "output_type": "execute_result",
          "data": {
            "text/plain": [
              "{'2-D', '2-H', '3-D', '3-H', '4-D', '4-H', '5-D', '5-H', '6-D', '6-H'}"
            ]
          },
          "metadata": {},
          "execution_count": 12
        }
      ]
    },
    {
      "cell_type": "markdown",
      "source": [
        "I was able to do it without including aces, as then I would have to also include 7,8,9, and 10 because of the range of my sets."
      ],
      "metadata": {
        "id": "mDdlDNoNFnE8"
      }
    },
    {
      "cell_type": "markdown",
      "source": [
        "I don't like the limitation I have with Aces, so I will make another set. The new set will be all cards with multiple values (just aces). I want to have the freedom to include or exclude aces later in the project."
      ],
      "metadata": {
        "id": "dtI13wCBQsLz"
      }
    },
    {
      "cell_type": "code",
      "source": [
        "Multi = {'A-S','A-C','A-H','A-D'}"
      ],
      "metadata": {
        "id": "QF7hBns-RO3C"
      },
      "execution_count": 85,
      "outputs": []
    },
    {
      "cell_type": "markdown",
      "source": [
        "### A powerset"
      ],
      "metadata": {
        "id": "MlD70tsjGIbO"
      }
    },
    {
      "cell_type": "markdown",
      "source": [
        "A powerset of any of my three original sets would be too large to include in this document. A powerset for Face would have 2^12 elements."
      ],
      "metadata": {
        "id": "7sZwd6JOGNAT"
      }
    },
    {
      "cell_type": "markdown",
      "source": [
        "Instead I will do a powerset of (Face n Black); that is all black face cards. That should only be size 2^6"
      ],
      "metadata": {
        "id": "-e4sQHcU44q6"
      }
    },
    {
      "cell_type": "code",
      "source": [
        "def get_subsets(fullset):\n",
        "  listrep = list(fullset) ## converts to a list for easy manipulation\n",
        "  n = len(listrep) ## getting the length of the list\n",
        "  return [[listrep[k] for k in range(n) if i&1<<k] for i in range(2**n)] ## iterating over the list to get subsets\n",
        "print(get_subsets(Face.intersection(Black)))\n"
      ],
      "metadata": {
        "id": "VhM_i4VSGO84",
        "outputId": "f143e066-1e68-479a-dff6-ac2a7756cda7",
        "colab": {
          "base_uri": "https://localhost:8080/"
        }
      },
      "execution_count": 38,
      "outputs": [
        {
          "output_type": "stream",
          "name": "stdout",
          "text": [
            "[[], ['J-C'], ['Q-S'], ['J-C', 'Q-S'], ['K-S'], ['J-C', 'K-S'], ['Q-S', 'K-S'], ['J-C', 'Q-S', 'K-S'], ['K-C'], ['J-C', 'K-C'], ['Q-S', 'K-C'], ['J-C', 'Q-S', 'K-C'], ['K-S', 'K-C'], ['J-C', 'K-S', 'K-C'], ['Q-S', 'K-S', 'K-C'], ['J-C', 'Q-S', 'K-S', 'K-C'], ['J-S'], ['J-C', 'J-S'], ['Q-S', 'J-S'], ['J-C', 'Q-S', 'J-S'], ['K-S', 'J-S'], ['J-C', 'K-S', 'J-S'], ['Q-S', 'K-S', 'J-S'], ['J-C', 'Q-S', 'K-S', 'J-S'], ['K-C', 'J-S'], ['J-C', 'K-C', 'J-S'], ['Q-S', 'K-C', 'J-S'], ['J-C', 'Q-S', 'K-C', 'J-S'], ['K-S', 'K-C', 'J-S'], ['J-C', 'K-S', 'K-C', 'J-S'], ['Q-S', 'K-S', 'K-C', 'J-S'], ['J-C', 'Q-S', 'K-S', 'K-C', 'J-S'], ['Q-C'], ['J-C', 'Q-C'], ['Q-S', 'Q-C'], ['J-C', 'Q-S', 'Q-C'], ['K-S', 'Q-C'], ['J-C', 'K-S', 'Q-C'], ['Q-S', 'K-S', 'Q-C'], ['J-C', 'Q-S', 'K-S', 'Q-C'], ['K-C', 'Q-C'], ['J-C', 'K-C', 'Q-C'], ['Q-S', 'K-C', 'Q-C'], ['J-C', 'Q-S', 'K-C', 'Q-C'], ['K-S', 'K-C', 'Q-C'], ['J-C', 'K-S', 'K-C', 'Q-C'], ['Q-S', 'K-S', 'K-C', 'Q-C'], ['J-C', 'Q-S', 'K-S', 'K-C', 'Q-C'], ['J-S', 'Q-C'], ['J-C', 'J-S', 'Q-C'], ['Q-S', 'J-S', 'Q-C'], ['J-C', 'Q-S', 'J-S', 'Q-C'], ['K-S', 'J-S', 'Q-C'], ['J-C', 'K-S', 'J-S', 'Q-C'], ['Q-S', 'K-S', 'J-S', 'Q-C'], ['J-C', 'Q-S', 'K-S', 'J-S', 'Q-C'], ['K-C', 'J-S', 'Q-C'], ['J-C', 'K-C', 'J-S', 'Q-C'], ['Q-S', 'K-C', 'J-S', 'Q-C'], ['J-C', 'Q-S', 'K-C', 'J-S', 'Q-C'], ['K-S', 'K-C', 'J-S', 'Q-C'], ['J-C', 'K-S', 'K-C', 'J-S', 'Q-C'], ['Q-S', 'K-S', 'K-C', 'J-S', 'Q-C'], ['J-C', 'Q-S', 'K-S', 'K-C', 'J-S', 'Q-C']]\n"
          ]
        }
      ]
    },
    {
      "cell_type": "markdown",
      "source": [
        "[Here is where I found the code for this function](https://www.delftstack.com/howto/python/powerset-python/)"
      ],
      "metadata": {
        "id": "8tf5bJijC1gY"
      }
    },
    {
      "cell_type": "markdown",
      "source": [
        "### Functions"
      ],
      "metadata": {
        "id": "6Fcfs2hNPkt9"
      }
    },
    {
      "cell_type": "markdown",
      "source": [
        "For the first function I will keep with the theme of cards and take a look at how the odds change with how different casinos play blackjack."
      ],
      "metadata": {
        "id": "ZFp2_S3YP12A"
      }
    },
    {
      "cell_type": "markdown",
      "source": [
        "Recall that each card has a value. Any number card holds the value of its number, face cards have a value of 10, and aces are either 1 or 11 depending on what is best when combined with the other cards in your hand. In blackjack, the goal of the game is to beat the dealer. The dealer deals two cards to everyone at the table including herself. Both your cards are face up, while only one of the dealer's is face up. The goal is to get as high of a score as you can without going over 21. If you go over 21 you \"bust\" and automatically lose the game. The dealer has the same goal, but common house rules are that she can't keep drawing cards after she hits 17. You might have guessed that the best thing you can have is 21 on your first two cards. You are right, and that can only be done with an ace and a face card."
      ],
      "metadata": {
        "id": "EYbYSaidW7Ml"
      }
    },
    {
      "cell_type": "markdown",
      "source": [
        "Now that that's out of the way, my function is going to be looking at how the odds of getting a blackjack on the first two cards can change with the ammount of decks in the game. Casinos use no less than 2 decks and typically no more than 8, but for this I will go to 12 for fun."
      ],
      "metadata": {
        "id": "zkxY1zIxYq96"
      }
    },
    {
      "cell_type": "markdown",
      "source": [
        "In simple terms we can use the ratio of all possible blackjack pairs to possible non-blackjack pairs."
      ],
      "metadata": {
        "id": "Y_UM5H__Z-Ah"
      }
    },
    {
      "cell_type": "markdown",
      "source": [
        "$$\n",
        "f(x) = {{4x\\choose{1}} \\ {16x\\choose{1}}\\over{52x\\choose{2}}}\n",
        "$$"
      ],
      "metadata": {
        "id": "iHgM4LQUanFH"
      }
    },
    {
      "cell_type": "markdown",
      "source": [
        "This is all the possible ways to choose an ace out of x decks, multiplied by the ways to choose a card worth 10 out of x decks, all over the ways to choose two cards out of the deck."
      ],
      "metadata": {
        "id": "YMfJ9DxDequ3"
      }
    },
    {
      "cell_type": "markdown",
      "source": [
        "Keep in mind that the content of the parentheses is not division. This is simply a short way to write the following."
      ],
      "metadata": {
        "id": "Ok-Y6I0_nwU8"
      }
    },
    {
      "cell_type": "markdown",
      "source": [
        "$$\n",
        "f(x) = {{(4x)!\\over{(4x-1)!}} \\times {(16x)!\\over{(16x-1)!}} \\over{(52x)!\\over{2!(52x-2)!}}}\n",
        "$$"
      ],
      "metadata": {
        "id": "JaUG-RmFoGaI"
      }
    },
    {
      "cell_type": "markdown",
      "source": [
        "Now lets see if we can compute and graph this for a couple values of x."
      ],
      "metadata": {
        "id": "xUg7pp1lqGwp"
      }
    },
    {
      "cell_type": "code",
      "source": [
        "import math\n",
        "import numpy as np\n",
        "import matplotlib.pyplot as plt"
      ],
      "metadata": {
        "id": "I12n4cbNb-fp"
      },
      "execution_count": 127,
      "outputs": []
    },
    {
      "cell_type": "code",
      "source": [
        "def choose(n,k):\n",
        "  return math.factorial(n)/((math.factorial(k))*(math.factorial(n-k)))\n",
        "def winner(decks):\n",
        "  return (((choose(4*decks,1))*(choose(16*decks,1)))/choose(52*decks,2))*100\n",
        "print(winner(2))"
      ],
      "metadata": {
        "id": "-F4jELjpquf7",
        "outputId": "a9ffa6c2-aac1-4d44-9baa-718d2de1fc8c",
        "colab": {
          "base_uri": "https://localhost:8080/"
        }
      },
      "execution_count": 153,
      "outputs": [
        {
          "output_type": "stream",
          "name": "stdout",
          "text": [
            "4.779686333084392\n"
          ]
        }
      ]
    },
    {
      "cell_type": "markdown",
      "source": [
        "It looks like with 2 decks there is a %4.78 chance to get a blackjack on the first deal!"
      ],
      "metadata": {
        "id": "MWhducMCu9Ho"
      }
    },
    {
      "cell_type": "markdown",
      "source": [
        "I wonder what happens when we add decks. Surely with more decks there are more aces and face cards, so the odds of getting them will increase right? Let's see."
      ],
      "metadata": {
        "id": "XJFzlLqCvTQ1"
      }
    },
    {
      "cell_type": "code",
      "source": [
        "x = [winner(2),winner(3),winner(4),winner(5),winner(6),winner(7),winner(8),winner(9),winner(10),winner(11),winner(12)] # I had to do this dirty because of the way I wrote my function.\n",
        "plt.plot(x)"
      ],
      "metadata": {
        "id": "WdZKuD2Zvs3_",
        "outputId": "bc97b526-f67e-406b-8ac7-d645b9a1f3d9",
        "colab": {
          "base_uri": "https://localhost:8080/",
          "height": 282
        }
      },
      "execution_count": 140,
      "outputs": [
        {
          "output_type": "execute_result",
          "data": {
            "text/plain": [
              "[<matplotlib.lines.Line2D at 0x7fb1ce026e90>]"
            ]
          },
          "metadata": {},
          "execution_count": 140
        },
        {
          "output_type": "display_data",
          "data": {
            "image/png": "[encoded data removed]",
            "text/plain": [
              "<Figure size 432x288 with 1 Axes>"
            ]
          },
          "metadata": {
            "needs_background": "light"
          }
        }
      ]
    },
    {
      "cell_type": "markdown",
      "source": [
        "My function is only defined on [1,inf), but it is bijective on that domain"
      ],
      "metadata": {
        "id": "VHwrcw1U9DWb"
      }
    },
    {
      "cell_type": "markdown",
      "source": [
        "Here you can stop reading and go to the Dictionary section. For the rest of this section I was just having fun with my function."
      ],
      "metadata": {
        "id": "Q3HxrAfS-GD0"
      }
    },
    {
      "cell_type": "markdown",
      "source": [
        "It looks like the more decks we add the lower the chances of a blackjack. Notice that it decreases by only %.04 from 2 to 12 decks, but keep in mind this is per 1 hand. Let's consider winstar with it's near 20 blackjack tables each dealing thousands of hands each day. The MINIMUM bet is 5 dolars at some tables and up to 100 at others. If we assume the average bet to be 10 dollars per hand (which is very low) and the hands per hour to be 30 per seat (GamingToday.com), with 3 seats per table filled on a slow day we can get a good estimate of the effect this has on a casino. We also have to take into account that blackjack at winstar pays 2.5 times the bet. Let's see how much 8 decks saves them in a day compared to 2."
      ],
      "metadata": {
        "id": "j4efi9zJy6T8"
      }
    },
    {
      "cell_type": "markdown",
      "source": [
        "Let's first see the exact value for 8 decks."
      ],
      "metadata": {
        "id": "2UfBh7nA5svM"
      }
    },
    {
      "cell_type": "code",
      "source": [
        "print(winner(8))"
      ],
      "metadata": {
        "id": "ISlO3W8T5xvM",
        "outputId": "e4e3b01a-0650-4ff0-9b3b-b10771fe5f00",
        "colab": {
          "base_uri": "https://localhost:8080/"
        }
      },
      "execution_count": 146,
      "outputs": [
        {
          "output_type": "stream",
          "name": "stdout",
          "text": [
            "4.7451343836886\n"
          ]
        }
      ]
    },
    {
      "cell_type": "code",
      "source": [
        "20*3*30*24 # Tables open, multiplied by seats available per tabled because of covid, by hands per hour for each seat, and finally by hours they are open in a day"
      ],
      "metadata": {
        "id": "qq2LeQdv2oa8",
        "outputId": "02e1f7d1-a92f-4938-b229-b2993c2dbe6d",
        "colab": {
          "base_uri": "https://localhost:8080/"
        }
      },
      "execution_count": 144,
      "outputs": [
        {
          "output_type": "execute_result",
          "data": {
            "text/plain": [
              "43200"
            ]
          },
          "metadata": {},
          "execution_count": 144
        }
      ]
    },
    {
      "cell_type": "markdown",
      "source": [
        "That is the hands played per day. Now if we consider the approximate ammount of blackjack hands that would result from an 8 deck vs 2 deck game, we can see the difference"
      ],
      "metadata": {
        "id": "3Ez49TZW4HTM"
      }
    },
    {
      "cell_type": "code",
      "source": [
        "print(\"8 deck: \",43200*winner(8)*17.5) # games per day, by number of blackjacks, by the average money lost by the casino per blackjack\n",
        "print(\"2 deck: \",43200*winner(2)*17.5)\n",
        "print(\"difference: \",(43200*winner(2)*17.5)-(43200*winner(8)*17.5))\n",
        "print(\"difference per year: \",((43200*winner(2)*17.5)-(43200*winner(8)*17.5))*365) # multiplied by days per year they are open"
      ],
      "metadata": {
        "id": "zYcDenu14crD",
        "outputId": "704d92c6-c0cc-4454-cc18-791320772723",
        "colab": {
          "base_uri": "https://localhost:8080/"
        }
      },
      "execution_count": 150,
      "outputs": [
        {
          "output_type": "stream",
          "name": "stdout",
          "text": [
            "8 deck:  3587321.5940685817\n",
            "2 deck:  3613442.8678118\n",
            "difference:  26121.273743218277\n",
            "difference per year:  9534264.91627467\n"
          ]
        }
      ]
    },
    {
      "cell_type": "markdown",
      "source": [
        "That is a loss to the casino of around 9.5 million dollars per year if they played with 2 decks instead of 8."
      ],
      "metadata": {
        "id": "0U2dwTzq8FFj"
      }
    },
    {
      "cell_type": "markdown",
      "source": [
        "Keep in mind that I have made so many assumptions it is almost comical, but this is the kind of behavior you see when you scale it up from just one hand to the impact it makes for some of the world's largest casinos."
      ],
      "metadata": {
        "id": "4nMDZD3X7K7m"
      }
    },
    {
      "cell_type": "markdown",
      "source": [
        "And that wraps up everything you need to know about my little million dollar function. I'll try not to make the future sections so long."
      ],
      "metadata": {
        "id": "coT9RJA17oII"
      }
    },
    {
      "cell_type": "markdown",
      "source": [
        "### Dictionary"
      ],
      "metadata": {
        "id": "SnrHNAwE8kCP"
      }
    }
  ]
}