{
  "nbformat": 4,
  "nbformat_minor": 0,
  "metadata": {
    "colab": {
      "name": "Untitled1.ipynb",
      "provenance": [],
      "authorship_tag": "ABX9TyNryQa+OOBzx7bYW9rMPD/t",
      "include_colab_link": true
    },
    "kernelspec": {
      "name": "python3",
      "display_name": "Python 3"
    },
    "language_info": {
      "name": "python"
    }
  },
  "cells": [
    {
      "cell_type": "markdown",
      "metadata": {
        "id": "view-in-github",
        "colab_type": "text"
      },
      "source": [
        "<a href=\"https://colab.research.google.com/github/BrendenLatham/DiscreteMath/blob/main/Untitled1.ipynb\" target=\"_parent\"><img src=\"https://colab.research.google.com/assets/colab-badge.svg\" alt=\"Open In Colab\"/></a>"
      ]
    },
    {
      "cell_type": "markdown",
      "source": [
        "# Project Part 1 : CPSMA 3133 [Dr. Jacob's](https://github.com/nurfnick) Discrete Mathematics \n",
        "\n",
        "## A Set Of Cards\n",
        "\n",
        "### Brenden Latham 245775\n"
      ],
      "metadata": {
        "id": "jPVzCqNXxbCp"
      }
    },
    {
      "cell_type": "markdown",
      "source": [
        "For This project I am going to use sets containing playing cards.\n",
        "The cards will be represented by two digit identifiers with the first digit being the value and the second being the suit."
      ],
      "metadata": {
        "id": "fds6LdMdzz1h"
      }
    },
    {
      "cell_type": "markdown",
      "source": [
        "Spade: -S   \n",
        "Club: -C   \n",
        "Heart: -H   \n",
        "Diamond: -D\n",
        "\n",
        "A two of hearts will be represented by 2-H, while a Jack of Clubs will be J-C."
      ],
      "metadata": {
        "id": "vHfqs64e0QLN"
      }
    },
    {
      "cell_type": "markdown",
      "source": [
        "There will be three sets:\n",
        "Face: the set of all face cards (no, an ace isn't a face card)\n",
        "Value: The set of all cards with a value of 7 or greater\n",
        "Black: The set of all black cards\n",
        "and of course the universal set (U) will be the set of all cards in a deck"
      ],
      "metadata": {
        "id": "_vxp8o2Z1RR0"
      }
    },
    {
      "cell_type": "code",
      "source": [
        "Face = {'J-S','Q-S','K-S','J-C','Q-C','K-C','J-H','Q-H','K-H','J-D','Q-D','K-D'}\n",
        "Value = {'7-S','8-S','9-S','10-S','J-S','Q-S','K-S','A-S','7-C','8-C','9-C','10-C','J-C','Q-C','K-C','A-C','7-H','8-H','9-H','10-H','J-H','Q-H','K-H','A-H','7-D','8-D','9-D','10-D','J-D','Q-D','K-D','A-D'}\n",
        "Black = {'2-S','3-S','4-S','5-S','6-S','7-S','8-S','9-S','10-S','J-S','Q-S','K-S','A-S','2-C','3-C','4-C','5-C','6-C','7-C','8-C','9-C','10-C','J-C','Q-C','K-C','A-C'}\n",
        "U = {'2-S','3-S','4-S','5-S','6-S','7-S','8-S','9-S','10-S','J-S','Q-S','K-S','A-S','2-C','3-C','4-C','5-C','6-C','7-C','8-C','9-C','10-C','J-C','Q-C','K-C','A-C','2-H','3-H','4-H','5-H','6-H','7-H','8-H','9-H','10-H','J-H','Q-H','K-H','A-H','2-D','3-D','4-D','5-D','6-D','7-D','8-D','9-D','10-D','J-D','Q-D','K-D','A-D'}"
      ],
      "metadata": {
        "id": "2E4XWRPx2hKO"
      },
      "execution_count": 21,
      "outputs": []
    },
    {
      "cell_type": "markdown",
      "source": [
        "### Now for some unions and intersections"
      ],
      "metadata": {
        "id": "nSt5QGAz7anB"
      }
    },
    {
      "cell_type": "code",
      "source": [
        "print('Face U Value =', Face.union(Value))"
      ],
      "metadata": {
        "colab": {
          "base_uri": "https://localhost:8080/"
        },
        "id": "B6I3QAT67eux",
        "outputId": "23513f29-d201-45ba-8982-16254d222d93"
      },
      "execution_count": 22,
      "outputs": [
        {
          "output_type": "stream",
          "name": "stdout",
          "text": [
            "Face U Value = {'9-D', '7-D', 'Q-H', 'J-C', '9-H', 'Q-C', 'K-S', '8-S', 'J-D', '8-D', '10-D', 'K-C', '7-C', 'K-H', 'Q-D', 'A-C', '8-H', '9-C', '10-C', 'A-S', '7-H', 'Q-S', 'J-S', '9-S', '10-H', 'J-H', '8-C', 'K-D', '7-S', '10-S', 'A-H', 'A-D'}\n"
          ]
        }
      ]
    },
    {
      "cell_type": "markdown",
      "source": [
        "This returns Value because Face is a subset of Value"
      ],
      "metadata": {
        "id": "nr1r6u7j71oJ"
      }
    },
    {
      "cell_type": "code",
      "source": [
        "print('Face U Black =', Face.union(Black))"
      ],
      "metadata": {
        "colab": {
          "base_uri": "https://localhost:8080/"
        },
        "id": "KA-xjMNd8RYy",
        "outputId": "512bb75d-778c-4436-ff74-d5396baf22d6"
      },
      "execution_count": 23,
      "outputs": [
        {
          "output_type": "stream",
          "name": "stdout",
          "text": [
            "Face U Black = {'Q-H', 'J-C', '4-C', 'Q-C', 'K-S', '8-S', 'J-D', '4-S', '3-C', 'K-C', '7-C', 'K-H', 'Q-D', 'A-C', '3-S', '9-C', '10-C', 'A-S', '6-C', 'Q-S', '6-S', 'J-S', '9-S', 'J-H', '2-C', '5-S', '8-C', '5-C', 'K-D', '7-S', '10-S', '2-S'}\n"
          ]
        }
      ]
    },
    {
      "cell_type": "markdown",
      "source": [
        "This gives us all cards that are either black or a face card"
      ],
      "metadata": {
        "id": "UMaCM0gw8cp9"
      }
    },
    {
      "cell_type": "code",
      "source": [
        "print('Value U Black =', Value.union(Black))"
      ],
      "metadata": {
        "colab": {
          "base_uri": "https://localhost:8080/"
        },
        "id": "wohw08Sd8owk",
        "outputId": "d97be674-3463-44bf-e9d1-29c5c990061d"
      },
      "execution_count": 24,
      "outputs": [
        {
          "output_type": "stream",
          "name": "stdout",
          "text": [
            "Value U Black = {'9-D', '7-D', 'Q-H', 'J-C', '9-H', '4-C', 'K-S', 'Q-C', '8-S', '8-D', 'J-D', '4-S', '10-D', '3-C', 'K-C', '7-C', 'K-H', 'Q-D', 'A-C', '8-H', '9-C', '3-S', '2-S', '10-C', 'A-S', '7-H', '6-C', 'Q-S', '6-S', 'J-S', '9-S', '10-H', 'J-H', '2-C', '5-S', '8-C', '5-C', 'K-D', '7-S', '10-S', 'A-H', 'A-D'}\n"
          ]
        }
      ]
    },
    {
      "cell_type": "markdown",
      "source": [
        "Here we have all cards that are either black or greater than 6"
      ],
      "metadata": {
        "id": "dfrz67qY8x7f"
      }
    },
    {
      "cell_type": "code",
      "source": [
        "Face.intersection(Value)"
      ],
      "metadata": {
        "colab": {
          "base_uri": "https://localhost:8080/"
        },
        "id": "bIHEFpELATgU",
        "outputId": "f9ecf5b6-6c7e-46d8-cd03-f4dfe358d741"
      },
      "execution_count": 34,
      "outputs": [
        {
          "output_type": "execute_result",
          "data": {
            "text/plain": [
              "{'J-C',\n",
              " 'J-D',\n",
              " 'J-H',\n",
              " 'J-S',\n",
              " 'K-C',\n",
              " 'K-D',\n",
              " 'K-H',\n",
              " 'K-S',\n",
              " 'Q-C',\n",
              " 'Q-D',\n",
              " 'Q-H',\n",
              " 'Q-S'}"
            ]
          },
          "metadata": {},
          "execution_count": 34
        }
      ]
    },
    {
      "cell_type": "markdown",
      "source": [
        "Here the intersection of Face and Value returns Face, once again because Face is a subset of Value"
      ],
      "metadata": {
        "id": "W-7hQ8mwBHAv"
      }
    },
    {
      "cell_type": "code",
      "source": [
        "Face.intersection(Black)"
      ],
      "metadata": {
        "colab": {
          "base_uri": "https://localhost:8080/"
        },
        "id": "vOdgHeb_BQAa",
        "outputId": "2b19c216-fe4b-4fbf-8ec6-fe0000ffc51a"
      },
      "execution_count": 35,
      "outputs": [
        {
          "output_type": "execute_result",
          "data": {
            "text/plain": [
              "{'J-C', 'J-S', 'K-C', 'K-S', 'Q-C', 'Q-S'}"
            ]
          },
          "metadata": {},
          "execution_count": 35
        }
      ]
    },
    {
      "cell_type": "markdown",
      "source": [
        "The intersection of Face and Black gives us the black face cards"
      ],
      "metadata": {
        "id": "8uIUClBABXYb"
      }
    },
    {
      "cell_type": "code",
      "source": [
        "Value.intersection(Black)"
      ],
      "metadata": {
        "colab": {
          "base_uri": "https://localhost:8080/"
        },
        "id": "RnxLSfktBeul",
        "outputId": "786b39c1-b525-44e5-a47f-79c727f7adea"
      },
      "execution_count": 36,
      "outputs": [
        {
          "output_type": "execute_result",
          "data": {
            "text/plain": [
              "{'10-C',\n",
              " '10-S',\n",
              " '7-C',\n",
              " '7-S',\n",
              " '8-C',\n",
              " '8-S',\n",
              " '9-C',\n",
              " '9-S',\n",
              " 'A-C',\n",
              " 'A-S',\n",
              " 'J-C',\n",
              " 'J-S',\n",
              " 'K-C',\n",
              " 'K-S',\n",
              " 'Q-C',\n",
              " 'Q-S'}"
            ]
          },
          "metadata": {},
          "execution_count": 36
        }
      ]
    },
    {
      "cell_type": "markdown",
      "source": [
        "And lastly the intersection of Value and Black gives us all the black cards greater than 6"
      ],
      "metadata": {
        "id": "fKR1hdxHBk5A"
      }
    },
    {
      "cell_type": "markdown",
      "source": [
        "### How about some compliments"
      ],
      "metadata": {
        "id": "gK77rje8CJZD"
      }
    },
    {
      "cell_type": "markdown",
      "source": [
        "first the compliment of Face"
      ],
      "metadata": {
        "id": "L1BY6GGuCjrV"
      }
    },
    {
      "cell_type": "code",
      "source": [
        "U-Face"
      ],
      "metadata": {
        "colab": {
          "base_uri": "https://localhost:8080/"
        },
        "id": "XHaDvqbPCb06",
        "outputId": "cd5e0d46-a3bd-4d8c-a14d-35f51e12c300"
      },
      "execution_count": 37,
      "outputs": [
        {
          "output_type": "execute_result",
          "data": {
            "text/plain": [
              "{'10-C',\n",
              " '10-D',\n",
              " '10-H',\n",
              " '10-S',\n",
              " '2-C',\n",
              " '2-D',\n",
              " '2-H',\n",
              " '2-S',\n",
              " '3-C',\n",
              " '3-D',\n",
              " '3-H',\n",
              " '3-S',\n",
              " '4-C',\n",
              " '4-D',\n",
              " '4-H',\n",
              " '4-S',\n",
              " '5-C',\n",
              " '5-D',\n",
              " '5-H',\n",
              " '5-S',\n",
              " '6-C',\n",
              " '6-D',\n",
              " '6-H',\n",
              " '6-S',\n",
              " '7-C',\n",
              " '7-D',\n",
              " '7-H',\n",
              " '7-S',\n",
              " '8-C',\n",
              " '8-D',\n",
              " '8-H',\n",
              " '8-S',\n",
              " '9-C',\n",
              " '9-D',\n",
              " '9-H',\n",
              " '9-S',\n",
              " 'A-C',\n",
              " 'A-D',\n",
              " 'A-H',\n",
              " 'A-S'}"
            ]
          },
          "metadata": {},
          "execution_count": 37
        }
      ]
    },
    {
      "cell_type": "markdown",
      "source": [
        "That gave us all the non-face cards"
      ],
      "metadata": {
        "id": "tvTjjyWjCmng"
      }
    },
    {
      "cell_type": "markdown",
      "source": [
        "Now lets look at Value's compliment"
      ],
      "metadata": {
        "id": "bNoHKcNJCpzS"
      }
    },
    {
      "cell_type": "code",
      "source": [
        "U-Value"
      ],
      "metadata": {
        "colab": {
          "base_uri": "https://localhost:8080/"
        },
        "id": "KjQ-8agZCtfj",
        "outputId": "5b235ae5-d648-4fb1-cc87-e0685872edcb"
      },
      "execution_count": 38,
      "outputs": [
        {
          "output_type": "execute_result",
          "data": {
            "text/plain": [
              "{'2-C',\n",
              " '2-D',\n",
              " '2-H',\n",
              " '2-S',\n",
              " '3-C',\n",
              " '3-D',\n",
              " '3-H',\n",
              " '3-S',\n",
              " '4-C',\n",
              " '4-D',\n",
              " '4-H',\n",
              " '4-S',\n",
              " '5-C',\n",
              " '5-D',\n",
              " '5-H',\n",
              " '5-S',\n",
              " '6-C',\n",
              " '6-D',\n",
              " '6-H',\n",
              " '6-S'}"
            ]
          },
          "metadata": {},
          "execution_count": 38
        }
      ]
    },
    {
      "cell_type": "markdown",
      "source": [
        "This gives us all cards with a value of less than 7 except Aces. Aces have a value of both 1 and 11. While they are less than 7, they are also greater. They are included in the Value set, thus won't show up in Value^c. So while Value is all cards > 6, Value^c is not all vards <= 6"
      ],
      "metadata": {
        "id": "PPDEzzr-C5lT"
      }
    },
    {
      "cell_type": "markdown",
      "source": [
        "Not for the compliment of black"
      ],
      "metadata": {
        "id": "DdcMfDolDxQe"
      }
    },
    {
      "cell_type": "code",
      "source": [
        "U-Black"
      ],
      "metadata": {
        "colab": {
          "base_uri": "https://localhost:8080/"
        },
        "id": "bZq8U2HCD2lq",
        "outputId": "38cb3e54-801a-405d-8727-f85699a4acd0"
      },
      "execution_count": 39,
      "outputs": [
        {
          "output_type": "execute_result",
          "data": {
            "text/plain": [
              "{'10-D',\n",
              " '10-H',\n",
              " '2-D',\n",
              " '2-H',\n",
              " '3-D',\n",
              " '3-H',\n",
              " '4-D',\n",
              " '4-H',\n",
              " '5-D',\n",
              " '5-H',\n",
              " '6-D',\n",
              " '6-H',\n",
              " '7-D',\n",
              " '7-H',\n",
              " '8-D',\n",
              " '8-H',\n",
              " '9-D',\n",
              " '9-H',\n",
              " 'A-D',\n",
              " 'A-H',\n",
              " 'J-D',\n",
              " 'J-H',\n",
              " 'K-D',\n",
              " 'K-H',\n",
              " 'Q-D',\n",
              " 'Q-H'}"
            ]
          },
          "metadata": {},
          "execution_count": 39
        }
      ]
    },
    {
      "cell_type": "markdown",
      "source": [
        "Here we have all the red cards (diamonds and hearts)"
      ],
      "metadata": {
        "id": "UBQvXhxpD6Gs"
      }
    },
    {
      "cell_type": "markdown",
      "source": [
        "Lastly lets see what it takes to get all red cards of value less than 7"
      ],
      "metadata": {
        "id": "h7XW0oXVEdU3"
      }
    },
    {
      "cell_type": "code",
      "source": [
        "(U-Value).intersection(U-Black)"
      ],
      "metadata": {
        "colab": {
          "base_uri": "https://localhost:8080/"
        },
        "id": "VX_zgcd0EkwA",
        "outputId": "a05f0d1c-95eb-4ee5-c264-5f2a9ab3020d"
      },
      "execution_count": 44,
      "outputs": [
        {
          "output_type": "execute_result",
          "data": {
            "text/plain": [
              "{'2-D', '2-H', '3-D', '3-H', '4-D', '4-H', '5-D', '5-H', '6-D', '6-H'}"
            ]
          },
          "metadata": {},
          "execution_count": 44
        }
      ]
    },
    {
      "cell_type": "markdown",
      "source": [
        "I was able to do it without including aces, as then I would have to also include 7,8,9, and 10 because of the range of my sets."
      ],
      "metadata": {
        "id": "mDdlDNoNFnE8"
      }
    },
    {
      "cell_type": "markdown",
      "source": [
        "### A powerset"
      ],
      "metadata": {
        "id": "MlD70tsjGIbO"
      }
    },
    {
      "cell_type": "markdown",
      "source": [
        "now a powerset for Face"
      ],
      "metadata": {
        "id": "7sZwd6JOGNAT"
      }
    },
    {
      "cell_type": "code",
      "source": [
        "#def get_subsets(fullset):\n",
        "#  listrep = list(fullset) ## converts to a list for easy manipulation\n",
        "#  n = len(listrep) ## getting the length of the list\n",
        "#  return [[listrep[k] for k in range(n) if i&1<<k] for i in range(2**n)] ## iterating over the list to get subsets\n",
        "#print(get_subsets(Face))\n"
      ],
      "metadata": {
        "id": "VhM_i4VSGO84"
      },
      "execution_count": 49,
      "outputs": []
    },
    {
      "cell_type": "markdown",
      "source": [
        "[Here is where I found the code for this function](https://www.delftstack.com/howto/python/powerset-python/)"
      ],
      "metadata": {
        "id": "zZ3SYLqUHS5H"
      }
    },
    {
      "cell_type": "markdown",
      "source": [
        "That's a lot of output so I am going to comment it out for now.\n",
        "There are 3 face cards per suit, and 4 suits in a deck, which makes 12 face cards.\n",
        " That gives us 2^12 subsets.\n",
        "Now imagine a powerset for U. That would be 2^52 subsets.\n",
        "I'm glad order doesn't matter."
      ],
      "metadata": {
        "id": "PyibAPhhHfSA"
      }
    }
  ]
}