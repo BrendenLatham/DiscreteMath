{
  "nbformat": 4,
  "nbformat_minor": 0,
  "metadata": {
    "colab": {
      "name": "Untitled1.ipynb",
      "provenance": [],
      "include_colab_link": true
    },
    "kernelspec": {
      "name": "python3",
      "display_name": "Python 3"
    },
    "language_info": {
      "name": "python"
    }
  },
  "cells": [
    {
      "cell_type": "markdown",
      "metadata": {
        "id": "view-in-github",
        "colab_type": "text"
      },
      "source": [
        "<a href=\"https://colab.research.google.com/github/BrendenLatham/DiscreteMath/blob/main/projectpart7.ipynb\" target=\"_parent\"><img src=\"https://colab.research.google.com/assets/colab-badge.svg\" alt=\"Open In Colab\"/></a>"
      ]
    },
    {
      "cell_type": "markdown",
      "source": [
        "# Project Part 1 : CPSMA 3133 [Dr. Jacob's](https://github.com/nurfnick) Discrete Mathematics \n",
        "\n",
        "## A Set Of Cards\n",
        "\n",
        "### Brenden Latham 245775\n"
      ],
      "metadata": {
        "id": "jPVzCqNXxbCp"
      }
    },
    {
      "cell_type": "markdown",
      "source": [
        "For This project I am going to use sets containing playing cards.\n",
        "The cards will be represented by two digit identifiers with the first digit being the value and the second being the suit."
      ],
      "metadata": {
        "id": "fds6LdMdzz1h"
      }
    },
    {
      "cell_type": "markdown",
      "source": [
        "Spade: -S   \n",
        "Club: -C   \n",
        "Heart: -H   \n",
        "Diamond: -D\n",
        "\n",
        "A two of hearts will be represented by 2-H, while a Jack of Clubs will be J-C."
      ],
      "metadata": {
        "id": "vHfqs64e0QLN"
      }
    },
    {
      "cell_type": "markdown",
      "source": [
        "There will be three sets:\n",
        "Face: the set of all face cards (no, an ace isn't a face card)\n",
        "Value: The set of all cards with a value of 7 or greater\n",
        "Black: The set of all black cards\n",
        "and of course the universal set (U) will be the set of all cards in a deck"
      ],
      "metadata": {
        "id": "_vxp8o2Z1RR0"
      }
    },
    {
      "cell_type": "code",
      "source": [
        "Face = {'J-S','Q-S','K-S','J-C','Q-C','K-C','J-H','Q-H','K-H','J-D','Q-D','K-D'}\n",
        "Value = {'7-S','8-S','9-S','10-S','J-S','Q-S','K-S','A-S','7-C','8-C','9-C','10-C','J-C','Q-C','K-C','A-C','7-H','8-H','9-H','10-H','J-H','Q-H','K-H','A-H','7-D','8-D','9-D','10-D','J-D','Q-D','K-D','A-D'}\n",
        "Black = {'2-S','3-S','4-S','5-S','6-S','7-S','8-S','9-S','10-S','J-S','Q-S','K-S','A-S','2-C','3-C','4-C','5-C','6-C','7-C','8-C','9-C','10-C','J-C','Q-C','K-C','A-C'}\n",
        "U = {'2-S','3-S','4-S','5-S','6-S','7-S','8-S','9-S','10-S','J-S','Q-S','K-S','A-S','2-C','3-C','4-C','5-C','6-C','7-C','8-C','9-C','10-C','J-C','Q-C','K-C','A-C','2-H','3-H','4-H','5-H','6-H','7-H','8-H','9-H','10-H','J-H','Q-H','K-H','A-H','2-D','3-D','4-D','5-D','6-D','7-D','8-D','9-D','10-D','J-D','Q-D','K-D','A-D'}"
      ],
      "metadata": {
        "id": "2E4XWRPx2hKO"
      },
      "execution_count": null,
      "outputs": []
    },
    {
      "cell_type": "markdown",
      "source": [
        "### Now for some unions and intersections"
      ],
      "metadata": {
        "id": "nSt5QGAz7anB"
      }
    },
    {
      "cell_type": "code",
      "source": [
        "print('Face U Value =', Face.union(Value))"
      ],
      "metadata": {
        "colab": {
          "base_uri": "https://localhost:8080/"
        },
        "id": "B6I3QAT67eux",
        "outputId": "e02a90ab-952a-476d-e997-df9386ec22d0"
      },
      "execution_count": null,
      "outputs": [
        {
          "output_type": "stream",
          "name": "stdout",
          "text": [
            "Face U Value = {'A-C', '8-S', 'A-D', 'Q-C', '10-H', 'J-S', 'J-D', 'K-D', '10-D', '7-S', '9-S', 'A-S', '9-H', 'Q-D', '8-D', 'K-H', '9-C', 'J-C', '7-C', 'Q-S', 'J-H', '10-S', '7-H', '7-D', 'K-C', 'K-S', '9-D', '8-H', 'Q-H', 'A-H', '8-C', '10-C'}\n"
          ]
        }
      ]
    },
    {
      "cell_type": "markdown",
      "source": [
        "This returns Value because Face is a subset of Value"
      ],
      "metadata": {
        "id": "nr1r6u7j71oJ"
      }
    },
    {
      "cell_type": "code",
      "source": [
        "print('Face U Black =', Face.union(Black))"
      ],
      "metadata": {
        "colab": {
          "base_uri": "https://localhost:8080/"
        },
        "id": "KA-xjMNd8RYy",
        "outputId": "bb6f64a8-8dfe-4412-8f26-87474d0bde4c"
      },
      "execution_count": null,
      "outputs": [
        {
          "output_type": "stream",
          "name": "stdout",
          "text": [
            "Face U Black = {'A-C', '3-S', '8-S', 'Q-C', 'J-S', 'J-D', 'K-D', '5-S', '3-C', '5-C', '7-S', '9-S', 'A-S', '2-C', '4-C', 'Q-D', 'K-H', '9-C', 'J-C', '4-S', '6-S', 'Q-S', 'J-H', '10-S', '7-C', 'K-C', 'K-S', '6-C', 'Q-H', '8-C', '2-S', '10-C'}\n"
          ]
        }
      ]
    },
    {
      "cell_type": "markdown",
      "source": [
        "This gives us all cards that are either black or a face card"
      ],
      "metadata": {
        "id": "UMaCM0gw8cp9"
      }
    },
    {
      "cell_type": "code",
      "source": [
        "print('Value U Black =', Value.union(Black))"
      ],
      "metadata": {
        "colab": {
          "base_uri": "https://localhost:8080/"
        },
        "id": "wohw08Sd8owk",
        "outputId": "89902631-a96a-41e6-9b7c-0ca978e965f2"
      },
      "execution_count": null,
      "outputs": [
        {
          "output_type": "stream",
          "name": "stdout",
          "text": [
            "Value U Black = {'A-C', '8-S', 'A-D', '3-S', 'Q-C', '10-H', 'J-S', 'J-D', 'K-D', '10-D', '5-S', '3-C', '5-C', '7-S', '9-S', 'A-S', '9-H', '2-C', '4-C', 'Q-D', '8-D', '9-C', 'K-H', 'J-C', '4-S', '7-C', '10-S', 'Q-S', '7-H', 'J-H', '7-D', '6-S', 'K-C', 'K-S', '9-D', '6-C', '8-H', 'Q-H', 'A-H', '8-C', '2-S', '10-C'}\n"
          ]
        }
      ]
    },
    {
      "cell_type": "markdown",
      "source": [
        "Here we have all cards that are either black or greater than 6"
      ],
      "metadata": {
        "id": "dfrz67qY8x7f"
      }
    },
    {
      "cell_type": "code",
      "source": [
        "Face.intersection(Value)"
      ],
      "metadata": {
        "colab": {
          "base_uri": "https://localhost:8080/"
        },
        "id": "bIHEFpELATgU",
        "outputId": "643b90ab-3fa3-4b80-897d-159316392a6a"
      },
      "execution_count": null,
      "outputs": [
        {
          "output_type": "execute_result",
          "data": {
            "text/plain": [
              "{'J-C',\n",
              " 'J-D',\n",
              " 'J-H',\n",
              " 'J-S',\n",
              " 'K-C',\n",
              " 'K-D',\n",
              " 'K-H',\n",
              " 'K-S',\n",
              " 'Q-C',\n",
              " 'Q-D',\n",
              " 'Q-H',\n",
              " 'Q-S'}"
            ]
          },
          "metadata": {},
          "execution_count": 169
        }
      ]
    },
    {
      "cell_type": "markdown",
      "source": [
        "Here the intersection of Face and Value returns Face, once again because Face is a subset of Value"
      ],
      "metadata": {
        "id": "W-7hQ8mwBHAv"
      }
    },
    {
      "cell_type": "code",
      "source": [
        "Face.intersection(Black)"
      ],
      "metadata": {
        "colab": {
          "base_uri": "https://localhost:8080/"
        },
        "id": "vOdgHeb_BQAa",
        "outputId": "fcb60324-d1cf-4a83-d696-9db632f43c72"
      },
      "execution_count": null,
      "outputs": [
        {
          "output_type": "execute_result",
          "data": {
            "text/plain": [
              "{'J-C', 'J-S', 'K-C', 'K-S', 'Q-C', 'Q-S'}"
            ]
          },
          "metadata": {},
          "execution_count": 170
        }
      ]
    },
    {
      "cell_type": "markdown",
      "source": [
        "The intersection of Face and Black gives us the black face cards"
      ],
      "metadata": {
        "id": "8uIUClBABXYb"
      }
    },
    {
      "cell_type": "code",
      "source": [
        "Value.intersection(Black)"
      ],
      "metadata": {
        "colab": {
          "base_uri": "https://localhost:8080/"
        },
        "id": "RnxLSfktBeul",
        "outputId": "266987c0-d7d5-427e-f1d9-ad3741e00f21"
      },
      "execution_count": null,
      "outputs": [
        {
          "output_type": "execute_result",
          "data": {
            "text/plain": [
              "{'10-C',\n",
              " '10-S',\n",
              " '7-C',\n",
              " '7-S',\n",
              " '8-C',\n",
              " '8-S',\n",
              " '9-C',\n",
              " '9-S',\n",
              " 'A-C',\n",
              " 'A-S',\n",
              " 'J-C',\n",
              " 'J-S',\n",
              " 'K-C',\n",
              " 'K-S',\n",
              " 'Q-C',\n",
              " 'Q-S'}"
            ]
          },
          "metadata": {},
          "execution_count": 171
        }
      ]
    },
    {
      "cell_type": "markdown",
      "source": [
        "And lastly the intersection of Value and Black gives us all the black cards greater than 6"
      ],
      "metadata": {
        "id": "fKR1hdxHBk5A"
      }
    },
    {
      "cell_type": "markdown",
      "source": [
        "### How about some compliments"
      ],
      "metadata": {
        "id": "gK77rje8CJZD"
      }
    },
    {
      "cell_type": "markdown",
      "source": [
        "first the compliment of Face"
      ],
      "metadata": {
        "id": "L1BY6GGuCjrV"
      }
    },
    {
      "cell_type": "code",
      "source": [
        "U-Face"
      ],
      "metadata": {
        "colab": {
          "base_uri": "https://localhost:8080/"
        },
        "id": "XHaDvqbPCb06",
        "outputId": "3894b9fa-baa4-4155-b7a5-09fe8cd0497c"
      },
      "execution_count": null,
      "outputs": [
        {
          "output_type": "execute_result",
          "data": {
            "text/plain": [
              "{'10-C',\n",
              " '10-D',\n",
              " '10-H',\n",
              " '10-S',\n",
              " '2-C',\n",
              " '2-D',\n",
              " '2-H',\n",
              " '2-S',\n",
              " '3-C',\n",
              " '3-D',\n",
              " '3-H',\n",
              " '3-S',\n",
              " '4-C',\n",
              " '4-D',\n",
              " '4-H',\n",
              " '4-S',\n",
              " '5-C',\n",
              " '5-D',\n",
              " '5-H',\n",
              " '5-S',\n",
              " '6-C',\n",
              " '6-D',\n",
              " '6-H',\n",
              " '6-S',\n",
              " '7-C',\n",
              " '7-D',\n",
              " '7-H',\n",
              " '7-S',\n",
              " '8-C',\n",
              " '8-D',\n",
              " '8-H',\n",
              " '8-S',\n",
              " '9-C',\n",
              " '9-D',\n",
              " '9-H',\n",
              " '9-S',\n",
              " 'A-C',\n",
              " 'A-D',\n",
              " 'A-H',\n",
              " 'A-S'}"
            ]
          },
          "metadata": {},
          "execution_count": 172
        }
      ]
    },
    {
      "cell_type": "markdown",
      "source": [
        "That gave us all the non-face cards"
      ],
      "metadata": {
        "id": "tvTjjyWjCmng"
      }
    },
    {
      "cell_type": "markdown",
      "source": [
        "Now lets look at Value's compliment"
      ],
      "metadata": {
        "id": "bNoHKcNJCpzS"
      }
    },
    {
      "cell_type": "code",
      "source": [
        "U-Value"
      ],
      "metadata": {
        "colab": {
          "base_uri": "https://localhost:8080/"
        },
        "id": "KjQ-8agZCtfj",
        "outputId": "cc2ff4b8-afcb-411f-a20e-1d9c77c7ec9f"
      },
      "execution_count": null,
      "outputs": [
        {
          "output_type": "execute_result",
          "data": {
            "text/plain": [
              "{'2-C',\n",
              " '2-D',\n",
              " '2-H',\n",
              " '2-S',\n",
              " '3-C',\n",
              " '3-D',\n",
              " '3-H',\n",
              " '3-S',\n",
              " '4-C',\n",
              " '4-D',\n",
              " '4-H',\n",
              " '4-S',\n",
              " '5-C',\n",
              " '5-D',\n",
              " '5-H',\n",
              " '5-S',\n",
              " '6-C',\n",
              " '6-D',\n",
              " '6-H',\n",
              " '6-S'}"
            ]
          },
          "metadata": {},
          "execution_count": 173
        }
      ]
    },
    {
      "cell_type": "markdown",
      "source": [
        "This gives us all cards with a value of less than 7 except Aces. Aces have a value of both 1 and 11. While they are less than 7, they are also greater. They are included in the Value set, thus won't show up in Value^c. So while Value is all cards > 6, Value^c is not all vards <= 6"
      ],
      "metadata": {
        "id": "PPDEzzr-C5lT"
      }
    },
    {
      "cell_type": "markdown",
      "source": [
        "Not for the compliment of black"
      ],
      "metadata": {
        "id": "DdcMfDolDxQe"
      }
    },
    {
      "cell_type": "code",
      "source": [
        "U-Black"
      ],
      "metadata": {
        "colab": {
          "base_uri": "https://localhost:8080/"
        },
        "id": "bZq8U2HCD2lq",
        "outputId": "c78de2ab-6d85-44c5-ab27-defd95ef7a51"
      },
      "execution_count": null,
      "outputs": [
        {
          "output_type": "execute_result",
          "data": {
            "text/plain": [
              "{'10-D',\n",
              " '10-H',\n",
              " '2-D',\n",
              " '2-H',\n",
              " '3-D',\n",
              " '3-H',\n",
              " '4-D',\n",
              " '4-H',\n",
              " '5-D',\n",
              " '5-H',\n",
              " '6-D',\n",
              " '6-H',\n",
              " '7-D',\n",
              " '7-H',\n",
              " '8-D',\n",
              " '8-H',\n",
              " '9-D',\n",
              " '9-H',\n",
              " 'A-D',\n",
              " 'A-H',\n",
              " 'J-D',\n",
              " 'J-H',\n",
              " 'K-D',\n",
              " 'K-H',\n",
              " 'Q-D',\n",
              " 'Q-H'}"
            ]
          },
          "metadata": {},
          "execution_count": 174
        }
      ]
    },
    {
      "cell_type": "markdown",
      "source": [
        "Here we have all the red cards (diamonds and hearts)"
      ],
      "metadata": {
        "id": "UBQvXhxpD6Gs"
      }
    },
    {
      "cell_type": "markdown",
      "source": [
        "Lastly lets see what it takes to get all red cards of value less than 7"
      ],
      "metadata": {
        "id": "h7XW0oXVEdU3"
      }
    },
    {
      "cell_type": "code",
      "source": [
        "(U-Value).intersection(U-Black)"
      ],
      "metadata": {
        "colab": {
          "base_uri": "https://localhost:8080/"
        },
        "id": "VX_zgcd0EkwA",
        "outputId": "bba9a030-8133-4455-e1a9-74d2543e86e1"
      },
      "execution_count": null,
      "outputs": [
        {
          "output_type": "execute_result",
          "data": {
            "text/plain": [
              "{'2-D', '2-H', '3-D', '3-H', '4-D', '4-H', '5-D', '5-H', '6-D', '6-H'}"
            ]
          },
          "metadata": {},
          "execution_count": 175
        }
      ]
    },
    {
      "cell_type": "markdown",
      "source": [
        "I was able to do it without including aces, as then I would have to also include 7,8,9, and 10 because of the range of my sets."
      ],
      "metadata": {
        "id": "mDdlDNoNFnE8"
      }
    },
    {
      "cell_type": "markdown",
      "source": [
        "I don't like the limitation I have with Aces, so I will make another set. The new set will be all cards with multiple values (just aces). I want to have the freedom to include or exclude aces later in the project."
      ],
      "metadata": {
        "id": "dtI13wCBQsLz"
      }
    },
    {
      "cell_type": "code",
      "source": [
        "Multi = {'A-S','A-C','A-H','A-D'}"
      ],
      "metadata": {
        "id": "QF7hBns-RO3C"
      },
      "execution_count": null,
      "outputs": []
    },
    {
      "cell_type": "markdown",
      "source": [
        "### A powerset"
      ],
      "metadata": {
        "id": "MlD70tsjGIbO"
      }
    },
    {
      "cell_type": "markdown",
      "source": [
        "A powerset of any of my three original sets would be too large to include in this document. A powerset for Face would have 2^12 elements."
      ],
      "metadata": {
        "id": "7sZwd6JOGNAT"
      }
    },
    {
      "cell_type": "markdown",
      "source": [
        "Instead I will do a powerset of (Face n Black); that is all black face cards. That should only be size 2^6"
      ],
      "metadata": {
        "id": "-e4sQHcU44q6"
      }
    },
    {
      "cell_type": "code",
      "source": [
        "def get_subsets(fullset):\n",
        "  listrep = list(fullset) ## converts to a list for easy manipulation\n",
        "  n = len(listrep) ## getting the length of the list\n",
        "  return [[listrep[k] for k in range(n) if i&1<<k] for i in range(2**n)] ## iterating over the list to get subsets\n",
        "print(get_subsets(Face.intersection(Black)))\n"
      ],
      "metadata": {
        "id": "VhM_i4VSGO84",
        "colab": {
          "base_uri": "https://localhost:8080/"
        },
        "outputId": "90f0a575-e49a-48df-b65f-6a36f57b2d11"
      },
      "execution_count": null,
      "outputs": [
        {
          "output_type": "stream",
          "name": "stdout",
          "text": [
            "[[], ['J-C'], ['Q-C'], ['J-C', 'Q-C'], ['J-S'], ['J-C', 'J-S'], ['Q-C', 'J-S'], ['J-C', 'Q-C', 'J-S'], ['Q-S'], ['J-C', 'Q-S'], ['Q-C', 'Q-S'], ['J-C', 'Q-C', 'Q-S'], ['J-S', 'Q-S'], ['J-C', 'J-S', 'Q-S'], ['Q-C', 'J-S', 'Q-S'], ['J-C', 'Q-C', 'J-S', 'Q-S'], ['K-C'], ['J-C', 'K-C'], ['Q-C', 'K-C'], ['J-C', 'Q-C', 'K-C'], ['J-S', 'K-C'], ['J-C', 'J-S', 'K-C'], ['Q-C', 'J-S', 'K-C'], ['J-C', 'Q-C', 'J-S', 'K-C'], ['Q-S', 'K-C'], ['J-C', 'Q-S', 'K-C'], ['Q-C', 'Q-S', 'K-C'], ['J-C', 'Q-C', 'Q-S', 'K-C'], ['J-S', 'Q-S', 'K-C'], ['J-C', 'J-S', 'Q-S', 'K-C'], ['Q-C', 'J-S', 'Q-S', 'K-C'], ['J-C', 'Q-C', 'J-S', 'Q-S', 'K-C'], ['K-S'], ['J-C', 'K-S'], ['Q-C', 'K-S'], ['J-C', 'Q-C', 'K-S'], ['J-S', 'K-S'], ['J-C', 'J-S', 'K-S'], ['Q-C', 'J-S', 'K-S'], ['J-C', 'Q-C', 'J-S', 'K-S'], ['Q-S', 'K-S'], ['J-C', 'Q-S', 'K-S'], ['Q-C', 'Q-S', 'K-S'], ['J-C', 'Q-C', 'Q-S', 'K-S'], ['J-S', 'Q-S', 'K-S'], ['J-C', 'J-S', 'Q-S', 'K-S'], ['Q-C', 'J-S', 'Q-S', 'K-S'], ['J-C', 'Q-C', 'J-S', 'Q-S', 'K-S'], ['K-C', 'K-S'], ['J-C', 'K-C', 'K-S'], ['Q-C', 'K-C', 'K-S'], ['J-C', 'Q-C', 'K-C', 'K-S'], ['J-S', 'K-C', 'K-S'], ['J-C', 'J-S', 'K-C', 'K-S'], ['Q-C', 'J-S', 'K-C', 'K-S'], ['J-C', 'Q-C', 'J-S', 'K-C', 'K-S'], ['Q-S', 'K-C', 'K-S'], ['J-C', 'Q-S', 'K-C', 'K-S'], ['Q-C', 'Q-S', 'K-C', 'K-S'], ['J-C', 'Q-C', 'Q-S', 'K-C', 'K-S'], ['J-S', 'Q-S', 'K-C', 'K-S'], ['J-C', 'J-S', 'Q-S', 'K-C', 'K-S'], ['Q-C', 'J-S', 'Q-S', 'K-C', 'K-S'], ['J-C', 'Q-C', 'J-S', 'Q-S', 'K-C', 'K-S']]\n"
          ]
        }
      ]
    },
    {
      "cell_type": "markdown",
      "source": [
        "[Here is where I found the code for this function](https://www.delftstack.com/howto/python/powerset-python/)\n"
      ],
      "metadata": {
        "id": "8tf5bJijC1gY"
      }
    },
    {
      "cell_type": "markdown",
      "source": [
        "# Project Part 2"
      ],
      "metadata": {
        "id": "rjSiFtHR-0go"
      }
    },
    {
      "cell_type": "markdown",
      "source": [
        "### Functions"
      ],
      "metadata": {
        "id": "6Fcfs2hNPkt9"
      }
    },
    {
      "cell_type": "markdown",
      "source": [
        "For the first function I will keep with the theme of cards and take a look at how the odds change with how different casinos play blackjack."
      ],
      "metadata": {
        "id": "ZFp2_S3YP12A"
      }
    },
    {
      "cell_type": "markdown",
      "source": [
        "Recall that each card has a value. Any number card holds the value of its number, face cards have a value of 10, and aces are either 1 or 11 depending on what is best when combined with the other cards in your hand. In blackjack, the goal of the game is to beat the dealer. The dealer deals two cards to everyone at the table including herself. Both your cards are face up, while only one of the dealer's is face up. The goal is to get as high of a score as you can without going over 21. If you go over 21 you \"bust\" and automatically lose the game. The dealer has the same goal, but common house rules are that she can't keep drawing cards after she hits 17. You might have guessed that the best thing you can have is 21 on your first two cards. You are right, and that can only be done with an ace and a face card."
      ],
      "metadata": {
        "id": "EYbYSaidW7Ml"
      }
    },
    {
      "cell_type": "markdown",
      "source": [
        "Now that that's out of the way, my function is going to be looking at how the odds of getting a blackjack on the first two cards can change with the ammount of decks in the game. Casinos use no less than 2 decks and typically no more than 8, but for this I will go to 12 for fun."
      ],
      "metadata": {
        "id": "zkxY1zIxYq96"
      }
    },
    {
      "cell_type": "markdown",
      "source": [
        "In simple terms we can use the ratio of all possible blackjack pairs to possible non-blackjack pairs."
      ],
      "metadata": {
        "id": "Y_UM5H__Z-Ah"
      }
    },
    {
      "cell_type": "markdown",
      "source": [
        "$$\n",
        "f(x) = {{4x\\choose{1}} \\ {16x\\choose{1}}\\over{52x\\choose{2}}}\n",
        "$$"
      ],
      "metadata": {
        "id": "iHgM4LQUanFH"
      }
    },
    {
      "cell_type": "markdown",
      "source": [
        "This is all the possible ways to choose an ace out of x decks, multiplied by the ways to choose a card worth 10 out of x decks, all over the ways to choose two cards out of the deck."
      ],
      "metadata": {
        "id": "YMfJ9DxDequ3"
      }
    },
    {
      "cell_type": "markdown",
      "source": [
        "Keep in mind that the content of the parentheses is not division. This is simply a short way to write the following."
      ],
      "metadata": {
        "id": "Ok-Y6I0_nwU8"
      }
    },
    {
      "cell_type": "markdown",
      "source": [
        "$$\n",
        "f(x) = {{(4x)!\\over{(4x-1)!}} \\times {(16x)!\\over{(16x-1)!}} \\over{(52x)!\\over{2!(52x-2)!}}}\n",
        "$$"
      ],
      "metadata": {
        "id": "JaUG-RmFoGaI"
      }
    },
    {
      "cell_type": "markdown",
      "source": [
        "Now lets see if we can compute and graph this for a couple values of x."
      ],
      "metadata": {
        "id": "xUg7pp1lqGwp"
      }
    },
    {
      "cell_type": "code",
      "source": [
        "import math\n",
        "import numpy as np\n",
        "import matplotlib.pyplot as plt"
      ],
      "metadata": {
        "id": "I12n4cbNb-fp"
      },
      "execution_count": null,
      "outputs": []
    },
    {
      "cell_type": "code",
      "source": [
        "def choose(n,k):\n",
        "  return math.factorial(n)/((math.factorial(k))*(math.factorial(n-k)))\n",
        "def winner(decks):\n",
        "  return (((choose(4*decks,1))*(choose(16*decks,1)))/choose(52*decks,2))*100\n",
        "print(winner(2))"
      ],
      "metadata": {
        "colab": {
          "base_uri": "https://localhost:8080/"
        },
        "id": "-F4jELjpquf7",
        "outputId": "079d2cbb-9e14-45b9-ec41-788a8c76d1fe"
      },
      "execution_count": null,
      "outputs": [
        {
          "output_type": "stream",
          "name": "stdout",
          "text": [
            "4.779686333084392\n"
          ]
        }
      ]
    },
    {
      "cell_type": "markdown",
      "source": [
        "It looks like with 2 decks there is a %4.78 chance to get a blackjack on the first deal!"
      ],
      "metadata": {
        "id": "MWhducMCu9Ho"
      }
    },
    {
      "cell_type": "markdown",
      "source": [
        "I wonder what happens when we add decks. Surely with more decks there are more aces and face cards, so the odds of getting them will increase right? Let's see."
      ],
      "metadata": {
        "id": "XJFzlLqCvTQ1"
      }
    },
    {
      "cell_type": "code",
      "source": [
        "x = [winner(2),winner(3),winner(4),winner(5),winner(6),winner(7),winner(8),winner(9),winner(10),winner(11),winner(12)] # I had to do this dirty because of the way I wrote my function.\n",
        "plt.plot(x)"
      ],
      "metadata": {
        "colab": {
          "base_uri": "https://localhost:8080/"
        },
        "id": "WdZKuD2Zvs3_",
        "outputId": "afc59d2b-a72d-415e-ab96-f6affc2e3f02"
      },
      "execution_count": null,
      "outputs": [
        {
          "output_type": "execute_result",
          "data": {
            "text/plain": [
              "[<matplotlib.lines.Line2D at 0x7f2efd8d6990>]"
            ]
          },
          "metadata": {},
          "execution_count": 180
        },
        {
          "output_type": "display_data",
          "data": {
            "image/png": "[encoded data removed]",
            "text/plain": [
              "<Figure size 432x288 with 1 Axes>"
            ]
          },
          "metadata": {
            "needs_background": "light"
          }
        }
      ]
    },
    {
      "cell_type": "markdown",
      "source": [
        "My function is only defined on [1,inf), but it is bijective on that domain"
      ],
      "metadata": {
        "id": "VHwrcw1U9DWb"
      }
    },
    {
      "cell_type": "markdown",
      "source": [
        "Here you can stop reading and go to the Dictionary section. For the rest of this section I was just having fun with my function."
      ],
      "metadata": {
        "id": "Q3HxrAfS-GD0"
      }
    },
    {
      "cell_type": "markdown",
      "source": [
        "It looks like the more decks we add the lower the chances of a blackjack. Notice that it decreases by only %.04 from 2 to 12 decks, but keep in mind this is per 1 hand. Let's consider winstar with it's near 20 blackjack tables each dealing thousands of hands each day. The MINIMUM bet is 5 dolars at some tables and up to 100 at others. If we assume the average bet to be 10 dollars per hand (which is very low) and the hands per hour to be 30 per seat (GamingToday.com), with 3 seats per table filled on a slow day we can get a good estimate of the effect this has on a casino. We also have to take into account that blackjack at winstar pays 2.5 times the bet. Let's see how much 8 decks saves them in a day compared to 2."
      ],
      "metadata": {
        "id": "j4efi9zJy6T8"
      }
    },
    {
      "cell_type": "markdown",
      "source": [
        "Let's first see the exact value for 8 decks."
      ],
      "metadata": {
        "id": "2UfBh7nA5svM"
      }
    },
    {
      "cell_type": "code",
      "source": [
        "print(winner(8))"
      ],
      "metadata": {
        "colab": {
          "base_uri": "https://localhost:8080/"
        },
        "id": "ISlO3W8T5xvM",
        "outputId": "8b1fc124-54aa-4078-bb59-ab21d801f700"
      },
      "execution_count": null,
      "outputs": [
        {
          "output_type": "stream",
          "name": "stdout",
          "text": [
            "4.7451343836886\n"
          ]
        }
      ]
    },
    {
      "cell_type": "code",
      "source": [
        "20*3*30*24 # Tables open, multiplied by seats available per tabled because of covid, by hands per hour for each seat, and finally by hours they are open in a day"
      ],
      "metadata": {
        "colab": {
          "base_uri": "https://localhost:8080/"
        },
        "id": "qq2LeQdv2oa8",
        "outputId": "ddb8761e-9f2b-4cb5-de06-9ddf81fbd190"
      },
      "execution_count": null,
      "outputs": [
        {
          "output_type": "execute_result",
          "data": {
            "text/plain": [
              "43200"
            ]
          },
          "metadata": {},
          "execution_count": 182
        }
      ]
    },
    {
      "cell_type": "markdown",
      "source": [
        "That is the hands played per day. Now if we consider the approximate ammount of blackjack hands that would result from an 8 deck vs 2 deck game, we can see the difference"
      ],
      "metadata": {
        "id": "3Ez49TZW4HTM"
      }
    },
    {
      "cell_type": "code",
      "source": [
        "print(\"8 deck: \",43200*winner(8)*17.5) # games per day, by number of blackjacks, by the average money lost by the casino per blackjack\n",
        "print(\"2 deck: \",43200*winner(2)*17.5)\n",
        "print(\"difference: \",(43200*winner(2)*17.5)-(43200*winner(8)*17.5))\n",
        "print(\"difference per year: \",((43200*winner(2)*17.5)-(43200*winner(8)*17.5))*365) # multiplied by days per year they are open"
      ],
      "metadata": {
        "colab": {
          "base_uri": "https://localhost:8080/"
        },
        "id": "zYcDenu14crD",
        "outputId": "174d0625-07ae-448e-9440-3b3e91fd70d7"
      },
      "execution_count": null,
      "outputs": [
        {
          "output_type": "stream",
          "name": "stdout",
          "text": [
            "8 deck:  3587321.5940685817\n",
            "2 deck:  3613442.8678118\n",
            "difference:  26121.273743218277\n",
            "difference per year:  9534264.91627467\n"
          ]
        }
      ]
    },
    {
      "cell_type": "markdown",
      "source": [
        "That is a loss to the casino of around 9.5 million dollars per year if they played with 2 decks instead of 8."
      ],
      "metadata": {
        "id": "0U2dwTzq8FFj"
      }
    },
    {
      "cell_type": "markdown",
      "source": [
        "Keep in mind that I have made so many assumptions it is almost comical, but this is the kind of behavior you see when you scale it up from just one hand to the impact it makes for some of the world's largest casinos."
      ],
      "metadata": {
        "id": "4nMDZD3X7K7m"
      }
    },
    {
      "cell_type": "markdown",
      "source": [
        "And that wraps up everything you need to know about my little million dollar function. I'll try not to make the future sections so long."
      ],
      "metadata": {
        "id": "coT9RJA17oII"
      }
    },
    {
      "cell_type": "markdown",
      "source": [
        "### Dictionary"
      ],
      "metadata": {
        "id": "SnrHNAwE8kCP"
      }
    },
    {
      "cell_type": "markdown",
      "source": [
        "Continuing along the lines of blackjack, this next part will be using a dictionary to store the value of a hand. I will be using the Value set. My dictionary will be a relation on Value and {X∈W|0<X<=21}. There will be only (A,A). I do this because two aces together hold the same value regarldess of the suit. Suit does not matter in blackjack.\n",
        "My dictionary will be using the following format."
      ],
      "metadata": {
        "id": "tEzG4_iVb0UW"
      }
    },
    {
      "cell_type": "code",
      "source": [
        "import itertools"
      ],
      "metadata": {
        "id": "eGxLOxGCgo_-"
      },
      "execution_count": null,
      "outputs": []
    },
    {
      "cell_type": "markdown",
      "source": [
        "$$\n",
        "Pair:Sum\n",
        "$$"
      ],
      "metadata": {
        "id": "V5tdVsfhfREF"
      }
    },
    {
      "cell_type": "code",
      "source": [
        "BJValues = ['7','8','9','10','J','Q','K','A']\n",
        "Key = tuple((itertools.product(BJValues,BJValues)))\n",
        "print(Key)"
      ],
      "metadata": {
        "id": "LePqAQrmcxjN",
        "outputId": "74db22c6-2ddc-4bee-a6da-2858d6e612d4",
        "colab": {
          "base_uri": "https://localhost:8080/"
        }
      },
      "execution_count": null,
      "outputs": [
        {
          "output_type": "stream",
          "name": "stdout",
          "text": [
            "(('7', '7'), ('7', '8'), ('7', '9'), ('7', '10'), ('7', 'J'), ('7', 'Q'), ('7', 'K'), ('7', 'A'), ('8', '7'), ('8', '8'), ('8', '9'), ('8', '10'), ('8', 'J'), ('8', 'Q'), ('8', 'K'), ('8', 'A'), ('9', '7'), ('9', '8'), ('9', '9'), ('9', '10'), ('9', 'J'), ('9', 'Q'), ('9', 'K'), ('9', 'A'), ('10', '7'), ('10', '8'), ('10', '9'), ('10', '10'), ('10', 'J'), ('10', 'Q'), ('10', 'K'), ('10', 'A'), ('J', '7'), ('J', '8'), ('J', '9'), ('J', '10'), ('J', 'J'), ('J', 'Q'), ('J', 'K'), ('J', 'A'), ('Q', '7'), ('Q', '8'), ('Q', '9'), ('Q', '10'), ('Q', 'J'), ('Q', 'Q'), ('Q', 'K'), ('Q', 'A'), ('K', '7'), ('K', '8'), ('K', '9'), ('K', '10'), ('K', 'J'), ('K', 'Q'), ('K', 'K'), ('K', 'A'), ('A', '7'), ('A', '8'), ('A', '9'), ('A', '10'), ('A', 'J'), ('A', 'Q'), ('A', 'K'), ('A', 'A'))\n"
          ]
        }
      ]
    },
    {
      "cell_type": "markdown",
      "source": [
        "Now to create the values that will correspond to the Value set of cards. While the set is {X∈W|0<X<=21}, because multiple keys will be hashed to the same value, I have to list out the values of each pair and insert them into the dictionary instead of just the set of values."
      ],
      "metadata": {
        "id": "gQWT5SY-hJfS"
      }
    },
    {
      "cell_type": "code",
      "source": [
        "sums = tuple([14,15,16,17,17,17,17,18,15,16,17,18,18,18,18,19,16,17,18,19,19,18,19,20,17,18,19,20,20,20,20,21,17,18,19,20,20,20,20,21,17,18,19,20,20,20,20,21,17,18,19,20,20,20,20,21,18,19,20,21,21,21,21,12])"
      ],
      "metadata": {
        "id": "ANkPhGVthRc9"
      },
      "execution_count": null,
      "outputs": []
    },
    {
      "cell_type": "markdown",
      "source": [
        "Now the dictionary"
      ],
      "metadata": {
        "id": "wmFpL09Cw_lp"
      }
    },
    {
      "cell_type": "code",
      "source": [
        "dictionary = dict({a:b for a,b in zip(Key,sums)})\n",
        "print(dictionary)"
      ],
      "metadata": {
        "id": "lhluifXaw9FQ",
        "outputId": "c5a17b6e-5092-4e35-991e-a90fde27b384",
        "colab": {
          "base_uri": "https://localhost:8080/"
        }
      },
      "execution_count": null,
      "outputs": [
        {
          "output_type": "stream",
          "name": "stdout",
          "text": [
            "{('7', '7'): 14, ('7', '8'): 15, ('7', '9'): 16, ('7', '10'): 17, ('7', 'J'): 17, ('7', 'Q'): 17, ('7', 'K'): 17, ('7', 'A'): 18, ('8', '7'): 15, ('8', '8'): 16, ('8', '9'): 17, ('8', '10'): 18, ('8', 'J'): 18, ('8', 'Q'): 18, ('8', 'K'): 18, ('8', 'A'): 19, ('9', '7'): 16, ('9', '8'): 17, ('9', '9'): 18, ('9', '10'): 19, ('9', 'J'): 19, ('9', 'Q'): 18, ('9', 'K'): 19, ('9', 'A'): 20, ('10', '7'): 17, ('10', '8'): 18, ('10', '9'): 19, ('10', '10'): 20, ('10', 'J'): 20, ('10', 'Q'): 20, ('10', 'K'): 20, ('10', 'A'): 21, ('J', '7'): 17, ('J', '8'): 18, ('J', '9'): 19, ('J', '10'): 20, ('J', 'J'): 20, ('J', 'Q'): 20, ('J', 'K'): 20, ('J', 'A'): 21, ('Q', '7'): 17, ('Q', '8'): 18, ('Q', '9'): 19, ('Q', '10'): 20, ('Q', 'J'): 20, ('Q', 'Q'): 20, ('Q', 'K'): 20, ('Q', 'A'): 21, ('K', '7'): 17, ('K', '8'): 18, ('K', '9'): 19, ('K', '10'): 20, ('K', 'J'): 20, ('K', 'Q'): 20, ('K', 'K'): 20, ('K', 'A'): 21, ('A', '7'): 18, ('A', '8'): 19, ('A', '9'): 20, ('A', '10'): 21, ('A', 'J'): 21, ('A', 'Q'): 21, ('A', 'K'): 21, ('A', 'A'): 12}\n"
          ]
        }
      ]
    },
    {
      "cell_type": "markdown",
      "source": [
        "Now let's see if I can print out the Keys and Values seperately"
      ],
      "metadata": {
        "id": "WLxWFpoeDaOK"
      }
    },
    {
      "cell_type": "code",
      "source": [
        "print(list(dictionary.keys()))\n",
        "print(list(dictionary.values()))"
      ],
      "metadata": {
        "id": "T87Iw8l2De6P",
        "outputId": "f33fbc6b-a975-40ac-e6a6-3c4f2d1f634e",
        "colab": {
          "base_uri": "https://localhost:8080/"
        }
      },
      "execution_count": null,
      "outputs": [
        {
          "output_type": "stream",
          "name": "stdout",
          "text": [
            "[('7', '7'), ('7', '8'), ('7', '9'), ('7', '10'), ('7', 'J'), ('7', 'Q'), ('7', 'K'), ('7', 'A'), ('8', '7'), ('8', '8'), ('8', '9'), ('8', '10'), ('8', 'J'), ('8', 'Q'), ('8', 'K'), ('8', 'A'), ('9', '7'), ('9', '8'), ('9', '9'), ('9', '10'), ('9', 'J'), ('9', 'Q'), ('9', 'K'), ('9', 'A'), ('10', '7'), ('10', '8'), ('10', '9'), ('10', '10'), ('10', 'J'), ('10', 'Q'), ('10', 'K'), ('10', 'A'), ('J', '7'), ('J', '8'), ('J', '9'), ('J', '10'), ('J', 'J'), ('J', 'Q'), ('J', 'K'), ('J', 'A'), ('Q', '7'), ('Q', '8'), ('Q', '9'), ('Q', '10'), ('Q', 'J'), ('Q', 'Q'), ('Q', 'K'), ('Q', 'A'), ('K', '7'), ('K', '8'), ('K', '9'), ('K', '10'), ('K', 'J'), ('K', 'Q'), ('K', 'K'), ('K', 'A'), ('A', '7'), ('A', '8'), ('A', '9'), ('A', '10'), ('A', 'J'), ('A', 'Q'), ('A', 'K'), ('A', 'A')]\n",
            "[14, 15, 16, 17, 17, 17, 17, 18, 15, 16, 17, 18, 18, 18, 18, 19, 16, 17, 18, 19, 19, 18, 19, 20, 17, 18, 19, 20, 20, 20, 20, 21, 17, 18, 19, 20, 20, 20, 20, 21, 17, 18, 19, 20, 20, 20, 20, 21, 17, 18, 19, 20, 20, 20, 20, 21, 18, 19, 20, 21, 21, 21, 21, 12]\n"
          ]
        }
      ]
    },
    {
      "cell_type": "markdown",
      "source": [
        "Now let's see if we can look something up by it's value"
      ],
      "metadata": {
        "id": "ovGifbzWD0CM"
      }
    },
    {
      "cell_type": "code",
      "source": [
        "hands = int(input(\"sum: \"))\n",
        "[a for a,b in dictionary.items() if b == hands]"
      ],
      "metadata": {
        "id": "yac_MBAsEGkC",
        "outputId": "726b8270-9be1-4fb1-b603-cb856981334a",
        "colab": {
          "base_uri": "https://localhost:8080/"
        }
      },
      "execution_count": null,
      "outputs": [
        {
          "name": "stdout",
          "output_type": "stream",
          "text": [
            "sum: 21\n"
          ]
        },
        {
          "output_type": "execute_result",
          "data": {
            "text/plain": [
              "[('10', 'A'),\n",
              " ('J', 'A'),\n",
              " ('Q', 'A'),\n",
              " ('K', 'A'),\n",
              " ('A', '10'),\n",
              " ('A', 'J'),\n",
              " ('A', 'Q'),\n",
              " ('A', 'K')]"
            ]
          },
          "metadata": {},
          "execution_count": 189
        }
      ]
    },
    {
      "cell_type": "markdown",
      "source": [
        "To look up all the hands with a specific value, run the above code and type the value in the box"
      ],
      "metadata": {
        "id": "RU6QDqAHHyaF"
      }
    },
    {
      "cell_type": "markdown",
      "source": [
        "This little function is not injective or surjective, so also not bijective."
      ],
      "metadata": {
        "id": "OkIyR0-WNZ_8"
      }
    },
    {
      "cell_type": "markdown",
      "source": [
        "The relation is not symetric or reflexive, but I beleive it is transitive."
      ],
      "metadata": {
        "id": "KgNOxqIPOiuU"
      }
    },
    {
      "cell_type": "markdown",
      "source": [
        "# Project Part 3"
      ],
      "metadata": {
        "id": "el0RNWsPTd0F"
      }
    },
    {
      "cell_type": "markdown",
      "source": [
        "### Probability"
      ],
      "metadata": {
        "id": "LS-SXw0OToVt"
      }
    },
    {
      "cell_type": "markdown",
      "source": [
        "This section fits my topic pretty well. In this section I am going to dive deeper into the probabilities of blackjack. In this section we are going to be playing a two deck game, because as we saw earlier it gives us the best chances of winning (and it's easier to compute). We will also assume that in any situation where we have to choose rather an ace is equal to 1 or 11, it will always be 11 unless that puts you over 21."
      ],
      "metadata": {
        "id": "W2HHRF_DYjq8"
      }
    },
    {
      "cell_type": "markdown",
      "source": [
        "First I will define my sample space. I will be all the possible sums of a hand in blackjack after the first deal. That is the sum of the values in each pair of the cartesian cross product of U."
      ],
      "metadata": {
        "id": "r01bLlHDZhzd"
      }
    },
    {
      "cell_type": "markdown",
      "source": [
        "Now in blackjack all we care about is numbers so let's tidy this up a bit. I'm thinking I want to use what I learned last week and make a dictionary for each hand that holds it's value as a key. This time I want to do it for every pair of cards and I want to do it in a more efficent way than just typing it all out. First I will define the possible hands that we will get our sample space from"
      ],
      "metadata": {
        "id": "7vY0Tj5MbP_6"
      }
    },
    {
      "cell_type": "code",
      "source": [
        "ss = (2,3,4,5,6,7,8,9,10,'J','Q','K','A')\n",
        "ss = tuple(itertools.product(ss,ss))"
      ],
      "metadata": {
        "id": "5aOoR_yycPcW"
      },
      "execution_count": null,
      "outputs": []
    },
    {
      "cell_type": "markdown",
      "source": [
        "Now I will build the values that correspond with every event in our sample space"
      ],
      "metadata": {
        "id": "91TVfcTPlcaT"
      }
    },
    {
      "cell_type": "code",
      "source": [
        "J = 10\n",
        "Q = 10\n",
        "K = 10\n",
        "A = 11\n",
        "ss_values = ''\n",
        "for card1 in (2,3,4,5,6,7,8,9,10,J,Q,K,A):\n",
        "  for card2 in (2,3,4,5,6,7,8,9,10,J,Q,K,A):\n",
        "    worth = card1+card2\n",
        "    ss_values = ss_values + str(worth) + ','\n",
        "ss_values = ss_values[:-1]\n",
        "ss_values = tuple(map(int, ss_values.split(',')))\n",
        "print(ss_values)"
      ],
      "metadata": {
        "id": "8Zs7sjsIl7iK",
        "colab": {
          "base_uri": "https://localhost:8080/"
        },
        "outputId": "f6a0e482-c237-4365-d622-d8600b11e929"
      },
      "execution_count": null,
      "outputs": [
        {
          "output_type": "stream",
          "name": "stdout",
          "text": [
            "(4, 5, 6, 7, 8, 9, 10, 11, 12, 12, 12, 12, 13, 5, 6, 7, 8, 9, 10, 11, 12, 13, 13, 13, 13, 14, 6, 7, 8, 9, 10, 11, 12, 13, 14, 14, 14, 14, 15, 7, 8, 9, 10, 11, 12, 13, 14, 15, 15, 15, 15, 16, 8, 9, 10, 11, 12, 13, 14, 15, 16, 16, 16, 16, 17, 9, 10, 11, 12, 13, 14, 15, 16, 17, 17, 17, 17, 18, 10, 11, 12, 13, 14, 15, 16, 17, 18, 18, 18, 18, 19, 11, 12, 13, 14, 15, 16, 17, 18, 19, 19, 19, 19, 20, 12, 13, 14, 15, 16, 17, 18, 19, 20, 20, 20, 20, 21, 12, 13, 14, 15, 16, 17, 18, 19, 20, 20, 20, 20, 21, 12, 13, 14, 15, 16, 17, 18, 19, 20, 20, 20, 20, 21, 12, 13, 14, 15, 16, 17, 18, 19, 20, 20, 20, 20, 21, 13, 14, 15, 16, 17, 18, 19, 20, 21, 21, 21, 21, 22)\n"
          ]
        }
      ]
    },
    {
      "cell_type": "markdown",
      "source": [
        "You might notice that the last element in the values is the sum 22 for a pair of aces. That is wrong because in that situation, one ace would be 11 and the other would be 1, or they would both be 1. I will fix this later"
      ],
      "metadata": {
        "id": "GdozCGLCup9r"
      }
    },
    {
      "cell_type": "markdown",
      "source": [
        "Now for the dictionary"
      ],
      "metadata": {
        "id": "jvTVS42UvNxF"
      }
    },
    {
      "cell_type": "code",
      "source": [
        "ssdict = dict({a:b for a,b in zip(ss,ss_values)})\n",
        "print(ssdict)"
      ],
      "metadata": {
        "id": "eGMhFOZ1vXL3",
        "outputId": "b0cc5cb9-1df7-43f4-e645-69be1104b137",
        "colab": {
          "base_uri": "https://localhost:8080/"
        }
      },
      "execution_count": null,
      "outputs": [
        {
          "output_type": "stream",
          "name": "stdout",
          "text": [
            "{(2, 2): 4, (2, 3): 5, (2, 4): 6, (2, 5): 7, (2, 6): 8, (2, 7): 9, (2, 8): 10, (2, 9): 11, (2, 10): 12, (2, 'J'): 12, (2, 'Q'): 12, (2, 'K'): 12, (2, 'A'): 13, (3, 2): 5, (3, 3): 6, (3, 4): 7, (3, 5): 8, (3, 6): 9, (3, 7): 10, (3, 8): 11, (3, 9): 12, (3, 10): 13, (3, 'J'): 13, (3, 'Q'): 13, (3, 'K'): 13, (3, 'A'): 14, (4, 2): 6, (4, 3): 7, (4, 4): 8, (4, 5): 9, (4, 6): 10, (4, 7): 11, (4, 8): 12, (4, 9): 13, (4, 10): 14, (4, 'J'): 14, (4, 'Q'): 14, (4, 'K'): 14, (4, 'A'): 15, (5, 2): 7, (5, 3): 8, (5, 4): 9, (5, 5): 10, (5, 6): 11, (5, 7): 12, (5, 8): 13, (5, 9): 14, (5, 10): 15, (5, 'J'): 15, (5, 'Q'): 15, (5, 'K'): 15, (5, 'A'): 16, (6, 2): 8, (6, 3): 9, (6, 4): 10, (6, 5): 11, (6, 6): 12, (6, 7): 13, (6, 8): 14, (6, 9): 15, (6, 10): 16, (6, 'J'): 16, (6, 'Q'): 16, (6, 'K'): 16, (6, 'A'): 17, (7, 2): 9, (7, 3): 10, (7, 4): 11, (7, 5): 12, (7, 6): 13, (7, 7): 14, (7, 8): 15, (7, 9): 16, (7, 10): 17, (7, 'J'): 17, (7, 'Q'): 17, (7, 'K'): 17, (7, 'A'): 18, (8, 2): 10, (8, 3): 11, (8, 4): 12, (8, 5): 13, (8, 6): 14, (8, 7): 15, (8, 8): 16, (8, 9): 17, (8, 10): 18, (8, 'J'): 18, (8, 'Q'): 18, (8, 'K'): 18, (8, 'A'): 19, (9, 2): 11, (9, 3): 12, (9, 4): 13, (9, 5): 14, (9, 6): 15, (9, 7): 16, (9, 8): 17, (9, 9): 18, (9, 10): 19, (9, 'J'): 19, (9, 'Q'): 19, (9, 'K'): 19, (9, 'A'): 20, (10, 2): 12, (10, 3): 13, (10, 4): 14, (10, 5): 15, (10, 6): 16, (10, 7): 17, (10, 8): 18, (10, 9): 19, (10, 10): 20, (10, 'J'): 20, (10, 'Q'): 20, (10, 'K'): 20, (10, 'A'): 21, ('J', 2): 12, ('J', 3): 13, ('J', 4): 14, ('J', 5): 15, ('J', 6): 16, ('J', 7): 17, ('J', 8): 18, ('J', 9): 19, ('J', 10): 20, ('J', 'J'): 20, ('J', 'Q'): 20, ('J', 'K'): 20, ('J', 'A'): 21, ('Q', 2): 12, ('Q', 3): 13, ('Q', 4): 14, ('Q', 5): 15, ('Q', 6): 16, ('Q', 7): 17, ('Q', 8): 18, ('Q', 9): 19, ('Q', 10): 20, ('Q', 'J'): 20, ('Q', 'Q'): 20, ('Q', 'K'): 20, ('Q', 'A'): 21, ('K', 2): 12, ('K', 3): 13, ('K', 4): 14, ('K', 5): 15, ('K', 6): 16, ('K', 7): 17, ('K', 8): 18, ('K', 9): 19, ('K', 10): 20, ('K', 'J'): 20, ('K', 'Q'): 20, ('K', 'K'): 20, ('K', 'A'): 21, ('A', 2): 13, ('A', 3): 14, ('A', 4): 15, ('A', 5): 16, ('A', 6): 17, ('A', 7): 18, ('A', 8): 19, ('A', 9): 20, ('A', 10): 21, ('A', 'J'): 21, ('A', 'Q'): 21, ('A', 'K'): 21, ('A', 'A'): 22}\n"
          ]
        }
      ]
    },
    {
      "cell_type": "code",
      "source": [
        "ssdict[('A', 'A')] = 12"
      ],
      "metadata": {
        "id": "jI7CEDsR7Zs-"
      },
      "execution_count": null,
      "outputs": []
    },
    {
      "cell_type": "code",
      "source": [
        "deal = int(input(\"sum: \"))\n",
        "[a for a,b in ssdict.items() if b == deal]"
      ],
      "metadata": {
        "id": "yuAi4K-1wAi6",
        "outputId": "82f14b94-a91b-4d1d-ab04-52cb9612e218",
        "colab": {
          "base_uri": "https://localhost:8080/"
        }
      },
      "execution_count": null,
      "outputs": [
        {
          "name": "stdout",
          "output_type": "stream",
          "text": [
            "sum: 12\n"
          ]
        },
        {
          "output_type": "execute_result",
          "data": {
            "text/plain": [
              "[(2, 10),\n",
              " (2, 'J'),\n",
              " (2, 'Q'),\n",
              " (2, 'K'),\n",
              " (3, 9),\n",
              " (4, 8),\n",
              " (5, 7),\n",
              " (6, 6),\n",
              " (7, 5),\n",
              " (8, 4),\n",
              " (9, 3),\n",
              " (10, 2),\n",
              " ('J', 2),\n",
              " ('Q', 2),\n",
              " ('K', 2),\n",
              " ('A', 'A')]"
            ]
          },
          "metadata": {},
          "execution_count": 194
        }
      ]
    },
    {
      "cell_type": "markdown",
      "source": [
        "Now that I have that done I will make a dictionary for the probabilities of each sum"
      ],
      "metadata": {
        "id": "WAi56QJA7EJw"
      }
    },
    {
      "cell_type": "code",
      "source": [
        "def findhands(var):\n",
        "  quary = [a for a,b in ssdict.items() if b == var]\n",
        "  return quary"
      ],
      "metadata": {
        "id": "XaBxm6gg7uz7"
      },
      "execution_count": null,
      "outputs": []
    },
    {
      "cell_type": "code",
      "source": [
        "sumstuple = ''\n",
        "probtuple = ''\n",
        "for c in range(4,22,1):\n",
        "  sumstuple = sumstuple + str(c) + ','\n",
        "  num = len(findhands(c))\n",
        "  den = len(ss_values)\n",
        "  probtuple = probtuple + str(num/den) + ','\n",
        "sumstuple = sumstuple[:-1]\n",
        "probtuple = probtuple[:-1]\n",
        "sumstuple = tuple(map(int, sumstuple.split(',')))\n",
        "probtuple = tuple(map(float, probtuple.split(',')))\n",
        "print(sumstuple)\n",
        "print(probtuple)"
      ],
      "metadata": {
        "id": "nuRJ0OQJ941b",
        "colab": {
          "base_uri": "https://localhost:8080/"
        },
        "outputId": "9e815199-aa4a-4105-c682-14b263cef37b"
      },
      "execution_count": null,
      "outputs": [
        {
          "output_type": "stream",
          "name": "stdout",
          "text": [
            "(4, 5, 6, 7, 8, 9, 10, 11, 12, 13, 14, 15, 16, 17, 18, 19, 20, 21)\n",
            "(0.005917159763313609, 0.011834319526627219, 0.01775147928994083, 0.023668639053254437, 0.029585798816568046, 0.03550295857988166, 0.04142011834319527, 0.047337278106508875, 0.09467455621301775, 0.09467455621301775, 0.08875739644970414, 0.08284023668639054, 0.07692307692307693, 0.07100591715976332, 0.0650887573964497, 0.05917159763313609, 0.10650887573964497, 0.047337278106508875)\n"
          ]
        }
      ]
    },
    {
      "cell_type": "code",
      "source": [
        "tally = 0\n",
        "for y in range(0,18,1):\n",
        "  tally = tally + probtuple[y]\n",
        "print(tally)"
      ],
      "metadata": {
        "colab": {
          "base_uri": "https://localhost:8080/"
        },
        "id": "JjS62gBjtjpb",
        "outputId": "d7a7973a-f0a9-418c-938e-2048af1f8875"
      },
      "execution_count": null,
      "outputs": [
        {
          "output_type": "stream",
          "name": "stdout",
          "text": [
            "1.0\n"
          ]
        }
      ]
    },
    {
      "cell_type": "markdown",
      "source": [
        "Keep in mind that these are extremely rough approximations. They will be as much as 1% off due to how I computed them. The correct method would be to use the function I defined earlier for all possible sums. However that would take more time than the rest of the project combined and as much as I like cards, this is just about the behavior of probabilities; so as long as the axioms of probability hold here, we can work with it."
      ],
      "metadata": {
        "id": "OZ5E2Z2f6YhO"
      }
    },
    {
      "cell_type": "markdown",
      "source": [
        "Something worth noting as well, is that the way I computed these probabilities is the probability of each sum equivalent to the limit of the probability of that sum as the number of x goes to infinity. That sounds like it would be harder, but it was easier to program and kept the sample space equal to one with each probability staying roughly the same relative to each other."
      ],
      "metadata": {
        "id": "8X6HWVxKg1BZ"
      }
    },
    {
      "cell_type": "markdown",
      "source": [
        "Now to build the probability dictionary which will act as the sample space with it's corresponding probabilities."
      ],
      "metadata": {
        "id": "nJzb9UTN7Ri1"
      }
    },
    {
      "cell_type": "code",
      "source": [
        "probdict = dict({a:b for a,b in zip(sumstuple,probtuple)})\n",
        "print(probdict)"
      ],
      "metadata": {
        "colab": {
          "base_uri": "https://localhost:8080/"
        },
        "id": "4ZnFs9KX7Vdm",
        "outputId": "6d3ca7c8-972b-4d12-8d0d-675ac445b378"
      },
      "execution_count": null,
      "outputs": [
        {
          "output_type": "stream",
          "name": "stdout",
          "text": [
            "{4: 0.005917159763313609, 5: 0.011834319526627219, 6: 0.01775147928994083, 7: 0.023668639053254437, 8: 0.029585798816568046, 9: 0.03550295857988166, 10: 0.04142011834319527, 11: 0.047337278106508875, 12: 0.09467455621301775, 13: 0.09467455621301775, 14: 0.08875739644970414, 15: 0.08284023668639054, 16: 0.07692307692307693, 17: 0.07100591715976332, 18: 0.0650887573964497, 19: 0.05917159763313609, 20: 0.10650887573964497, 21: 0.047337278106508875}\n"
          ]
        }
      ]
    },
    {
      "cell_type": "code",
      "source": [
        "def findprob(var):\n",
        "  quary = [b for a,b in probdict.items() if a == var]\n",
        "  return quary"
      ],
      "metadata": {
        "id": "Qerdwjex8ZtO"
      },
      "execution_count": null,
      "outputs": []
    },
    {
      "cell_type": "markdown",
      "source": [
        "No the next step is to determine if the axioms of probability are true. I am really starting to like python so I will do this in a more fancy way than just outright saying it."
      ],
      "metadata": {
        "id": "MReukxc08k8b"
      }
    },
    {
      "cell_type": "code",
      "source": [
        "tally1 = 0\n",
        "tally2 = 1\n",
        "tally3 = 0\n",
        "for y in range(0,18,1):\n",
        "  tally1 = tally1 + probtuple[y]\n",
        "  if probtuple[y] > 0 : tally2 = tally2*1\n",
        "  else: tally2 = tally2*0\n",
        "if tally2 == 1: print(\"Axiom 1 holds\")\n",
        "else: print(\"Axiom 1 doesn't hold\")\n",
        "if tally1 == 1 : print(\"Axiom 2 holds\") \n",
        "else : print(\"Axiom 2 doesn't hold\")\n",
        "print(\"Axiom 3 holds\")"
      ],
      "metadata": {
        "colab": {
          "base_uri": "https://localhost:8080/"
        },
        "id": "g5qHfk-DbT1Y",
        "outputId": "39e3db8a-e88e-4909-fc5d-045142f3acbc"
      },
      "execution_count": null,
      "outputs": [
        {
          "output_type": "stream",
          "name": "stdout",
          "text": [
            "Axiom 1 holds\n",
            "Axiom 2 holds\n",
            "Axiom 3 holds\n"
          ]
        }
      ]
    },
    {
      "cell_type": "markdown",
      "source": [
        "I cheated on axiom three but that one has more to do with the behavior of blackjack probabilities than the structure of my code. Remember that these axioms are self-evident, and as such this was just a way to make sure my code was right for creating my sample space and probabilities."
      ],
      "metadata": {
        "id": "vKncG76OeqwJ"
      }
    },
    {
      "cell_type": "markdown",
      "source": [
        "Now we can use this dictionary of probabilities. In reality every hand of blackjack has an effect on the probability of the next until the end of the \"shoe\", though in our case we are playing with an infinite amount of decks so this won't effec the results. First I will look at the probability of a blackjack three times in a row."
      ],
      "metadata": {
        "id": "SayZuLTZfLa-"
      }
    },
    {
      "cell_type": "code",
      "source": [
        "print(\n",
        "    findprob(21)[0]*findprob(21)[0]*findprob(21)[0]\n",
        ")"
      ],
      "metadata": {
        "colab": {
          "base_uri": "https://localhost:8080/"
        },
        "id": "E6GeNHU1jCRm",
        "outputId": "20c27cbf-afcd-456e-da48-1a5a659a79de"
      },
      "execution_count": null,
      "outputs": [
        {
          "output_type": "stream",
          "name": "stdout",
          "text": [
            "0.00010607422004889772\n"
          ]
        }
      ]
    },
    {
      "cell_type": "markdown",
      "source": [
        "It looks like about .01%"
      ],
      "metadata": {
        "id": "jD1GB3jOlVCh"
      }
    },
    {
      "cell_type": "markdown",
      "source": [
        "Now for a union and an intersecton"
      ],
      "metadata": {
        "id": "tIVSb0kymNH-"
      }
    },
    {
      "cell_type": "markdown",
      "source": [
        "The union will be Pr(12) U Pr(21)"
      ],
      "metadata": {
        "id": "cqHCBH-zmX-e"
      }
    },
    {
      "cell_type": "code",
      "source": [
        "print(\n",
        "    findprob(12)[0]+findprob(21)[0]\n",
        ")"
      ],
      "metadata": {
        "colab": {
          "base_uri": "https://localhost:8080/"
        },
        "id": "Uklqlp8Lmm1e",
        "outputId": "d72765e8-aa4c-469d-ee08-7a6202d16fcd"
      },
      "execution_count": null,
      "outputs": [
        {
          "output_type": "stream",
          "name": "stdout",
          "text": [
            "0.14201183431952663\n"
          ]
        }
      ]
    },
    {
      "cell_type": "markdown",
      "source": [
        "Now the intersection will be between the same, Pr(12) n Pr(21)"
      ],
      "metadata": {
        "id": "2kBxZUsYnIHu"
      }
    },
    {
      "cell_type": "code",
      "source": [
        "print(\n",
        "    findprob(12)[0]*findprob(21)[0]\n",
        ")"
      ],
      "metadata": {
        "colab": {
          "base_uri": "https://localhost:8080/"
        },
        "id": "1sXW-wXQnXRt",
        "outputId": "450fdffc-a4c4-4e7c-df28-3f591ccdff61"
      },
      "execution_count": null,
      "outputs": [
        {
          "output_type": "stream",
          "name": "stdout",
          "text": [
            "0.004481635797065929\n"
          ]
        }
      ]
    },
    {
      "cell_type": "markdown",
      "source": [
        "Now for some conditional probabilities.\n",
        "I want to do the probability that the dealer has a blackjack given that we have a 20. This should still work even for the same hand because we are playing with infinite decks."
      ],
      "metadata": {
        "id": "tBgHAoXdns0q"
      }
    },
    {
      "cell_type": "code",
      "source": [
        "print(\n",
        "    findprob(21)[0]*findprob(20)[0]/findprob(20)[0]\n",
        ")"
      ],
      "metadata": {
        "colab": {
          "base_uri": "https://localhost:8080/"
        },
        "id": "CkLdpSqcn-jE",
        "outputId": "3aa6ec3c-611c-4c4d-985e-98089a3e0f37"
      },
      "execution_count": null,
      "outputs": [
        {
          "output_type": "stream",
          "name": "stdout",
          "text": [
            "0.04733727810650887\n"
          ]
        }
      ]
    },
    {
      "cell_type": "markdown",
      "source": [
        "As we can see the Pr(20) just cancels out. Now for Pr(20) given Pr(21)"
      ],
      "metadata": {
        "id": "JCG9It7ZpcFc"
      }
    },
    {
      "cell_type": "code",
      "source": [
        "print(\n",
        "    findprob(20)[0]*findprob(21)[0]/findprob(21)[0]\n",
        ")"
      ],
      "metadata": {
        "colab": {
          "base_uri": "https://localhost:8080/"
        },
        "id": "TvHBk-2qp7i2",
        "outputId": "9054c5a1-2762-48a4-ecde-88e0ecaffaa5"
      },
      "execution_count": null,
      "outputs": [
        {
          "output_type": "stream",
          "name": "stdout",
          "text": [
            "0.10650887573964496\n"
          ]
        }
      ]
    },
    {
      "cell_type": "markdown",
      "source": [
        "Now for the probability of a compliment. We will compute the probability of not getting 21 on the first deal"
      ],
      "metadata": {
        "id": "Z1DCjFG8qCy2"
      }
    },
    {
      "cell_type": "code",
      "source": [
        "res = 0\n",
        "for z in range(4,21,1):\n",
        "  res = res + findprob(z)[0]\n",
        "print(res)\n",
        "del res"
      ],
      "metadata": {
        "colab": {
          "base_uri": "https://localhost:8080/"
        },
        "id": "3O_pAJgoqlA7",
        "outputId": "19d6735c-68ea-4b15-a42e-4bc3fa957673"
      },
      "execution_count": null,
      "outputs": [
        {
          "output_type": "stream",
          "name": "stdout",
          "text": [
            "0.9526627218934911\n"
          ]
        }
      ]
    },
    {
      "cell_type": "markdown",
      "source": [
        "Now for a simulation. I will simulate a game of blackjack using our rules and our dictionary. I will use ss_values for this as it only contains the possible sums, but recall that in that tuple, 22 actually corresponds to 12. I will be looking for occuences of 21"
      ],
      "metadata": {
        "id": "kh40sitFriwu"
      }
    },
    {
      "cell_type": "code",
      "source": [
        "import random"
      ],
      "metadata": {
        "id": "7rGGTgyOuiwV"
      },
      "execution_count": null,
      "outputs": []
    },
    {
      "cell_type": "code",
      "source": [
        "for w in range(1,11,1):\n",
        "  print(\n",
        "      ss_values[random.randint(4,21)]\n",
        "  )"
      ],
      "metadata": {
        "colab": {
          "base_uri": "https://localhost:8080/"
        },
        "id": "Sk2VTMFetidG",
        "outputId": "9a4555b3-fe5a-47a0-f382-3c0ed0faa2e7"
      },
      "execution_count": null,
      "outputs": [
        {
          "output_type": "stream",
          "name": "stdout",
          "text": [
            "11\n",
            "11\n",
            "9\n",
            "12\n",
            "12\n",
            "11\n",
            "11\n",
            "6\n",
            "6\n",
            "10\n"
          ]
        }
      ]
    },
    {
      "cell_type": "markdown",
      "source": [
        "The first couple times I tried it I didn't get a single 21. This makes sense as the percent is really low. It is mostly only showing the sums with a higher probability. The explenation for this is that probability of an event can be said to be the proportion of times that event occurs over all events as the number of trials approach infinity. The more trials I simulate, the closer the probabilites will be to matching. Though with what I am using, even 100 trials most liekly wouldn't give us an extremely accurate probability. So I'll make a function and graph the results."
      ],
      "metadata": {
        "id": "pSwuliapusWh"
      }
    },
    {
      "cell_type": "code",
      "source": [
        "def probfun(trials):\n",
        "  trials = trials*10\n",
        "  probtest = []\n",
        "  for loop in range(1,trials+1,1):\n",
        "    probtest.append(random.choice(ss_values))\n",
        "  wins = 0\n",
        "  for v in probtest:\n",
        "    if v == 21: wins = wins+1\n",
        "  return wins/trials"
      ],
      "metadata": {
        "id": "cdW317N6v7hF"
      },
      "execution_count": null,
      "outputs": []
    },
    {
      "cell_type": "markdown",
      "source": [
        "The input will be how many trials to perform by a factor of 10. Ex: 1 = 10, 2 = 100, 3 = 1000. Pretty much scaling it down with logs."
      ],
      "metadata": {
        "id": "Xo7D00Qn0NrN"
      }
    },
    {
      "cell_type": "code",
      "source": [
        "random.seed(123)\n",
        "xprop = []\n",
        "for d in range(1,1000,1):\n",
        "  xprop.append(probfun(d))\n",
        "plt.plot(xprop)"
      ],
      "metadata": {
        "colab": {
          "base_uri": "https://localhost:8080/",
          "height": 284
        },
        "id": "zCP1uTlkz4F_",
        "outputId": "1e7457cd-e482-407d-bf28-e3b66cd9881d"
      },
      "execution_count": null,
      "outputs": [
        {
          "output_type": "execute_result",
          "data": {
            "text/plain": [
              "[<matplotlib.lines.Line2D at 0x7f2efd330590>]"
            ]
          },
          "metadata": {},
          "execution_count": 210
        },
        {
          "output_type": "display_data",
          "data": {
            "image/png": "[encoded data removed]",
            "text/plain": [
              "<Figure size 432x288 with 1 Axes>"
            ]
          },
          "metadata": {
            "needs_background": "light"
          }
        }
      ]
    },
    {
      "cell_type": "markdown",
      "source": [
        "And here we can see how as the number of trials grow exponentially larger, we start to get our probability. Notice that the domain was from (0,.10) while the range was from (10^1000)."
      ],
      "metadata": {
        "id": "LKL1_E6C3LjH"
      }
    },
    {
      "cell_type": "markdown",
      "source": [
        "I appologize to whoever has to read this for the long secton, but probability is one of my two all-time favorite topics."
      ],
      "metadata": {
        "id": "HcnrJbYC4aZy"
      }
    },
    {
      "cell_type": "markdown",
      "source": [
        "# Project Part 4"
      ],
      "metadata": {
        "id": "m2nPd4PpjRbx"
      }
    },
    {
      "cell_type": "markdown",
      "source": [
        "### Counting"
      ],
      "metadata": {
        "id": "Eu608AkqjT6L"
      }
    },
    {
      "cell_type": "markdown",
      "source": [
        "For this part of the project I am going to simulate the interworkings of modern slot machines. Modern slot machines work on a derivation of BINGO. I am going to create a more simplified form. There will be a three by three grid. Each box in this grid will have a 33% chance of being picked. If three picked boxes form a horizontal, vertical, or diagonal line, the player is rewarded based on the probability of that orientatin showing up. If the boxes form a diagonal line from the top left to the bottom right, a secondary game is started. In this game there is jackpot box with a 20% chance of lighting up. If it does the payer wins the jackpot."
      ],
      "metadata": {
        "id": "iVDwi6RXjVKx"
      }
    },
    {
      "cell_type": "markdown",
      "source": [
        "In reality casino games are much harder to win than this, but I like this as an example in counting"
      ],
      "metadata": {
        "id": "_ECl3wQvkUmr"
      }
    },
    {
      "cell_type": "code",
      "source": [
        "def slot():\n",
        "  roll = [0]*9\n",
        "  box_prob = (1,0,0)\n",
        "  jackpot_prob = (1,0,0,0,0)\n",
        "  for r in range(0,9,1):\n",
        "    roll[r] = random.choice(box_prob)\n",
        "  if roll[0] == 1 and roll[4] == 1 and roll[8] == 1:\n",
        "    jackpot = random.choice(jackpot_prob)\n",
        "    if jackpot == 1:\n",
        "      print(\"JACKPOT!\")\n",
        "    else:\n",
        "      print(\"SO CLOSE!\")\n",
        "  roll = np.array(roll)\n",
        "  roll = roll.reshape(3,3)\n",
        "  return roll\n",
        "print(slot())"
      ],
      "metadata": {
        "id": "ifJ9zg-TkgJ8",
        "outputId": "16fc0d7a-96b8-4b74-d928-90ed87ec25c5",
        "colab": {
          "base_uri": "https://localhost:8080/"
        }
      },
      "execution_count": null,
      "outputs": [
        {
          "output_type": "stream",
          "name": "stdout",
          "text": [
            "[[1 1 1]\n",
            " [0 0 0]\n",
            " [0 0 0]]\n"
          ]
        }
      ]
    },
    {
      "cell_type": "markdown",
      "source": [
        "Feel free to play until you get a jackpot but be warned it only happens about 0.7% of the time"
      ],
      "metadata": {
        "id": "keCsFkDRo6B2"
      }
    },
    {
      "cell_type": "markdown",
      "source": [
        "In this simulation there are 2^10 possible outcomes. Just like counting the number of possible binary sequences for 10 bits, each box will either be on or off, so there are 1024 different sequences of boxes. Order does not matter here, as the orientations mean the same thing no matter what order they are put in."
      ],
      "metadata": {
        "id": "tJJpJcAso4Hd"
      }
    },
    {
      "cell_type": "markdown",
      "source": [
        "For the next two questions it would be more interesting to find the number of ways we could get results over 100 games. Assuming once we get a game we will never get it again, there are 1024!/(100!*924!) different ways we could play 100 games if order does not matter. If order does matter, there are 1024!/924! different ways."
      ],
      "metadata": {
        "id": "K1H9sag2qSga"
      }
    },
    {
      "cell_type": "code",
      "source": [
        "factnum = math.factorial(1024)\n",
        "factdenom = math.factorial(100)\n",
        "factdenom = factdenom*math.factorial(924)\n",
        "fact = factnum/factdenom\n",
        "print(fact)\n",
        "factnum = math.factorial(1024)\n",
        "factdenom = math.factorial(924)\n",
        "fact = factnum/factdenom\n",
        "print(fact)"
      ],
      "metadata": {
        "id": "QYOi6duasmiM",
        "outputId": "d8639000-20f9-46f5-e5f2-5559a3b52ca7",
        "colab": {
          "base_uri": "https://localhost:8080/"
        }
      },
      "execution_count": null,
      "outputs": [
        {
          "output_type": "stream",
          "name": "stdout",
          "text": [
            "7.746624668043452e+140\n",
            "7.229631627331956e+298\n"
          ]
        }
      ]
    },
    {
      "cell_type": "markdown",
      "source": [
        "Notice the e+c on the end of those *numbers*"
      ],
      "metadata": {
        "id": "cfRxczyitxOj"
      }
    },
    {
      "cell_type": "markdown",
      "source": [
        "On a side note, the coefficient of the 5th order of (x-3)^9 can be computed with the following"
      ],
      "metadata": {
        "id": "FAggg1IErO9Q"
      }
    },
    {
      "cell_type": "code",
      "source": [
        ""
      ],
      "metadata": {
        "id": "OjfvoxQAzZgl"
      },
      "execution_count": null,
      "outputs": []
    },
    {
      "cell_type": "markdown",
      "source": [
        "$$\n",
        "(a+b)^n = \\sum_{k=0}^n {n\\choose{k}} a^{n-k} b^k\n",
        "$$"
      ],
      "metadata": {
        "id": "Y0pjnowhvN7i"
      }
    },
    {
      "cell_type": "markdown",
      "source": [
        "$$\n",
        "(x-3)^9 = \\binom{9}{0} x^9(-3)^0 + \\binom{9}{1} x^8(-3)^1 + \\binom{9}{2} x^7(-3)^2 + \\binom{9}{3} x^6(-3)^3 + \\binom{9}{4} x^5(-3)^4 + \\binom{9}{5} x^4(-3)^5 + \\binom{9}{6} x^3(-3)^6 + \\binom{9}{7} x^2(-3)^7 + \\binom{9}{8} x^1(-3)^8 + \\binom{9}{9} x^0(-3)^9\n",
        "$$"
      ],
      "metadata": {
        "id": "TXybbuSOxPhU"
      }
    },
    {
      "cell_type": "markdown",
      "source": [
        "So the fifth order is:"
      ],
      "metadata": {
        "id": "X2o7_BCm0kOm"
      }
    },
    {
      "cell_type": "markdown",
      "source": [
        "$$\n",
        "\\binom{9}{4} x^5(-3)^4 + \\binom{9}{5} x^4(-3)^5 + \\binom{9}{6} x^3(-3)^6 + \\binom{9}{7} x^2(-3)^7 + \\binom{9}{8} x^1(-3)^8 + \\binom{9}{9} x^0(-3)^9 \\\\ = \\ 10206x^5-30618x^4+61236x^3-78732x^2+59049x-19683\n",
        "$$"
      ],
      "metadata": {
        "id": "_sTNec0E0qCk"
      }
    },
    {
      "cell_type": "markdown",
      "source": [
        "So the coefficient is 10206"
      ],
      "metadata": {
        "id": "9MSAJNT33LOp"
      }
    },
    {
      "cell_type": "markdown",
      "source": [
        "## Part 5"
      ],
      "metadata": {
        "id": "8Ye5YVzLnbBd"
      }
    },
    {
      "cell_type": "markdown",
      "source": [
        "### Structures"
      ],
      "metadata": {
        "id": "1pfzIU3unfw6"
      }
    },
    {
      "cell_type": "markdown",
      "source": [
        "So far I have managed to keep this collection of assignments focused around the same general theme. Though I could do the same this week, I feel it is time for a break in topic. For this section I will be looking at a graph of my 10 closest friends."
      ],
      "metadata": {
        "id": "1xJC90vLnh3Z"
      }
    },
    {
      "cell_type": "code",
      "source": [
        "import graphviz"
      ],
      "metadata": {
        "id": "aLB1oooIqMQx"
      },
      "execution_count": null,
      "outputs": []
    },
    {
      "cell_type": "code",
      "source": [
        "friends = (\"Zac\", \"Darin\", \"Noah\", \"Willie\", \"Jacob\", \"John\", \"Brayden\", \"Ryan\", \"Bill\", \"Daniel\")\n",
        "FriendKeys = ('a','b','c','d','e','f','g','h','i','j',)\n",
        "graph = graphviz.Graph()\n",
        "for friend in range(0,10,1):\n",
        "  graph.node(FriendKeys[friend],friends[friend])"
      ],
      "metadata": {
        "id": "14emD3rZq6dX"
      },
      "execution_count": null,
      "outputs": []
    },
    {
      "cell_type": "markdown",
      "source": [
        "Now that the vertices are created, it is time for the edges"
      ],
      "metadata": {
        "id": "mbpW7kt1s6f3"
      }
    },
    {
      "cell_type": "code",
      "source": [
        "graph.edges(['ab','af','ah','ai','bc','bd','be','bg','bh','bj','cd','cf','ch','eg','fh','fi','hi'])"
      ],
      "metadata": {
        "id": "FXCyeo5PwR36"
      },
      "execution_count": null,
      "outputs": []
    },
    {
      "cell_type": "code",
      "source": [
        "graph.render('friend.gv', view=True)"
      ],
      "metadata": {
        "colab": {
          "base_uri": "https://localhost:8080/",
          "height": 35
        },
        "id": "PlhfWTPD2vE-",
        "outputId": "5249475e-c49b-4a44-9340-25c6b62df285"
      },
      "execution_count": null,
      "outputs": [
        {
          "output_type": "execute_result",
          "data": {
            "application/vnd.google.colaboratory.intrinsic+json": {
              "type": "string"
            },
            "text/plain": [
              "'friend.gv.pdf'"
            ]
          },
          "metadata": {},
          "execution_count": 216
        }
      ]
    },
    {
      "cell_type": "markdown",
      "source": [
        "The output can be see at https://github.com/BrendenLatham/DiscreteMath/blob/main/friend.gv.pdf"
      ],
      "metadata": {
        "id": "FwGylLAj9yLh"
      }
    },
    {
      "cell_type": "markdown",
      "source": [
        "In this structure, each shortest path between two edges represents the degree of sepereation among my closest friends not including me. Zac and Jacob have distance of 2. The degree of a vertex represents how many of my other friends they are also friends with. Darin is probably my best friend with a degree of 7 meaning most of my other friends are his friend as well. A cycle here would'nt represent much, but an example of this would be from Darin to Jacob to Brayden and back the Darin."
      ],
      "metadata": {
        "id": "brdPio7p4F3M"
      }
    },
    {
      "cell_type": "markdown",
      "source": [
        "This graph shows the different friend groups I have and how they intersect. The two groups are largely composed of my friends from back home and those at ECU and how some are interconnected."
      ],
      "metadata": {
        "id": "OJNeeWmR5cQ-"
      }
    },
    {
      "cell_type": "markdown",
      "source": [
        "## Part 6"
      ],
      "metadata": {
        "id": "iZFvC7IAshDh"
      }
    },
    {
      "cell_type": "markdown",
      "source": [
        "### Counting"
      ],
      "metadata": {
        "id": "WVtJmxYNsjqZ"
      }
    },
    {
      "cell_type": "markdown",
      "source": [
        "This section of the project consists of justs methods of calculation."
      ],
      "metadata": {
        "id": "MFoc-THnsldS"
      }
    },
    {
      "cell_type": "markdown",
      "source": [
        "First to convert the number 24036 from base 7 to 10"
      ],
      "metadata": {
        "id": "VylrTQkfszl0"
      }
    },
    {
      "cell_type": "code",
      "source": [
        "# 24036 = (2*7^4 + 4*7^3 + 3*7 + 6*1)\n",
        "list_7 = [6,3,0,4,2]\n",
        "num_7 = 0\n",
        "for i in range(0,5,1): num_7 = num_7+list_7[i]*pow(7,i)\n",
        "print(num_7)"
      ],
      "metadata": {
        "id": "189YOe0Ss9vD",
        "outputId": "fa5c9535-1ce4-46b5-d28d-3076e7495dee",
        "colab": {
          "base_uri": "https://localhost:8080/"
        }
      },
      "execution_count": null,
      "outputs": [
        {
          "output_type": "stream",
          "name": "stdout",
          "text": [
            "6201\n"
          ]
        }
      ]
    },
    {
      "cell_type": "markdown",
      "source": [
        "now to convert 72e3 from hex to base 10"
      ],
      "metadata": {
        "id": "40_INZxKu_UA"
      }
    },
    {
      "cell_type": "code",
      "source": [
        "e = 14\n",
        "list_16 = (3,e,2,7)\n",
        "num_16 = 0\n",
        "for j in range(0,4,1): num_16 = num_16+list_16[j]*pow(16,j)\n",
        "print(num_16)"
      ],
      "metadata": {
        "id": "2Z3zg539vGuh",
        "outputId": "1e89bbf0-e4cb-4e72-fbe3-f5793a967075",
        "colab": {
          "base_uri": "https://localhost:8080/"
        }
      },
      "execution_count": null,
      "outputs": [
        {
          "output_type": "stream",
          "name": "stdout",
          "text": [
            "29411\n"
          ]
        }
      ]
    },
    {
      "cell_type": "markdown",
      "source": [
        "Next I will convert 3735928559 into hex"
      ],
      "metadata": {
        "id": "E5YTntz6wMCk"
      }
    },
    {
      "cell_type": "code",
      "source": [
        "num = 3735928559\n",
        "numd = 0\n",
        "hex = \"\"\n",
        "for k in range(0,8,1):\n",
        "  numd = int(num%16)\n",
        "  num = num - numd\n",
        "  num = num/16\n",
        "  if numd > 9:\n",
        "    if numd == 10: numd = \"A\"\n",
        "    elif numd == 11: numd = \"B\"\n",
        "    elif numd == 12: numd = \"C\"\n",
        "    elif numd == 13: numd = \"D\"\n",
        "    elif numd == 14: numd = \"E\"\n",
        "    elif numd == 15: numd = \"F\"\n",
        "    elif numd == 16: numd = 10\n",
        "    numd = str(numd)\n",
        "  hex = numd+hex\n",
        "print(hex)"
      ],
      "metadata": {
        "id": "DAkXLr0OwUfA",
        "outputId": "fdd50351-f7b4-4ffb-dd8f-61985142b90b",
        "colab": {
          "base_uri": "https://localhost:8080/"
        }
      },
      "execution_count": null,
      "outputs": [
        {
          "output_type": "stream",
          "name": "stdout",
          "text": [
            "DEADBEEF\n"
          ]
        }
      ]
    },
    {
      "cell_type": "markdown",
      "source": [
        "Now I will perform 25-37 using two's compliment"
      ],
      "metadata": {
        "id": "0SXv7LzF4-tQ"
      }
    },
    {
      "cell_type": "code",
      "source": [
        "def convert_to_binary(num, fit):\n",
        "  if fit == True:\n",
        "    digits = math.ceil(math.log(num,2))\n",
        "  else: digits = 8\n",
        "  temp = 0\n",
        "  binary = \"\"\n",
        "  for h in range(0,digits,1):\n",
        "    temp = int(num%2)\n",
        "    num = num - temp\n",
        "    num = num/2\n",
        "    temp = str(temp)\n",
        "    binary = temp+binary\n",
        "  str(binary)\n",
        "  return(binary)\n",
        "\n",
        "def two_compliment(binary):\n",
        "  digits = len(binary)\n",
        "  comp = ''\n",
        "  for m in range(0,digits,1):\n",
        "    if binary[m] == '0':\n",
        "      comp = comp+'1'\n",
        "    else: comp = comp+'0'\n",
        "  comp = int(comp)\n",
        "  comp = comp+1\n",
        "  comp = str(comp)\n",
        "  return(comp)"
      ],
      "metadata": {
        "id": "o7igwwha5ELl"
      },
      "execution_count": null,
      "outputs": []
    },
    {
      "cell_type": "markdown",
      "source": [
        "now to get our two numbers to add"
      ],
      "metadata": {
        "id": "F8jE7Wy-SEM4"
      }
    },
    {
      "cell_type": "code",
      "source": [
        "binary1 = convert_to_binary(25, fit=False)\n",
        "binary2 = two_compliment(convert_to_binary(37, fit=False))\n",
        "print(binary1)\n",
        "print(binary2)"
      ],
      "metadata": {
        "id": "ekc1cLJ9SGh0",
        "outputId": "76305516-aa73-4cd5-b619-5128e2c2f1a5",
        "colab": {
          "base_uri": "https://localhost:8080/"
        }
      },
      "execution_count": null,
      "outputs": [
        {
          "output_type": "stream",
          "name": "stdout",
          "text": [
            "00011001\n",
            "11011011\n"
          ]
        }
      ]
    },
    {
      "cell_type": "markdown",
      "source": [
        "Now I will make the addition function"
      ],
      "metadata": {
        "id": "cFHa7ZBJDoa9"
      }
    },
    {
      "cell_type": "code",
      "source": [
        "def binary_addition(num1, num2):\n",
        "  sum = ''\n",
        "  len1 = len(num1)\n",
        "  len2 = len(num2)\n",
        "  if len1 > len2:\n",
        "    digits = len1\n",
        "  else: digits = len2\n",
        "  for n in range(0,digits+1,1):\n",
        "    if n == 0:\n",
        "      if num1[digits-1] == '1' and num2[digits-1] == '1':\n",
        "        sum = '0'+sum\n",
        "        carry = '1'\n",
        "      elif num1[digits-1] == '0' and num2[digits-1] == '0':\n",
        "        sum = '0'+sum\n",
        "        carry = '0'\n",
        "      else:\n",
        "        sum = '1'+sum\n",
        "        carry = '0'\n",
        "    else:\n",
        "      if num1[digits-1-n] == '1' and num2[digits-1-n] == '1' and carry == '1':\n",
        "        sum = '1'+sum\n",
        "        carry = '1'\n",
        "      elif num1[digits-1-n] == '0' and num2[digits-1-n] == '1' and carry == '1' or num1[digits-1-n] == '1' and num2[digits-1-n] == '0' and carry == '1' or num1[digits-1-n] == '1' and num2[digits-1-n] == '1' and carry == '0':\n",
        "        sum = '0'+sum\n",
        "        carry = '1'\n",
        "      elif num1[digits-1-n] == '0' and num2[digits-1-n] == '0' and carry == '0':\n",
        "        sum = '0'+sum\n",
        "        carry = '0'\n",
        "  return(sum)"
      ],
      "metadata": {
        "id": "K6v42PT4CWQI"
      },
      "execution_count": null,
      "outputs": []
    },
    {
      "cell_type": "code",
      "source": [
        "binary_addition(binary1,binary2)"
      ],
      "metadata": {
        "id": "dKi52PzRYL86",
        "outputId": "cf8d4349-2f2c-4cb7-95f9-5455460d0487",
        "colab": {
          "base_uri": "https://localhost:8080/",
          "height": 35
        }
      },
      "execution_count": null,
      "outputs": [
        {
          "output_type": "execute_result",
          "data": {
            "application/vnd.google.colaboratory.intrinsic+json": {
              "type": "string"
            },
            "text/plain": [
              "'1001100'"
            ]
          },
          "metadata": {},
          "execution_count": 247
        }
      ]
    },
    {
      "cell_type": "markdown",
      "source": [
        "I will check this answer"
      ],
      "metadata": {
        "id": "9rAEmBkVaIhC"
      }
    },
    {
      "cell_type": "code",
      "source": [
        "list_bi = (0,0,1,1) # I am only checking for the value, not the sign bit because there is no reason to\n",
        "num_bi = 0\n",
        "for v in range(0,4,1): num_bi = num_bi+list_bi[v]*pow(2,v)\n",
        "print(num_bi)"
      ],
      "metadata": {
        "id": "SHvNLlYcaK45",
        "outputId": "2da98cef-d806-4081-e00a-a736ed29c590",
        "colab": {
          "base_uri": "https://localhost:8080/"
        }
      },
      "execution_count": null,
      "outputs": [
        {
          "output_type": "stream",
          "name": "stdout",
          "text": [
            "12\n"
          ]
        }
      ]
    },
    {
      "cell_type": "markdown",
      "source": [
        "My code is working and giving me correct answers for various different binary strings, though it is doing something odd with the number of digits on compliments of some numbers. Any advice would be appreciated. "
      ],
      "metadata": {
        "id": "ScDTHUJzZVzi"
      }
    },
    {
      "cell_type": "markdown",
      "source": [
        "## Part 5"
      ],
      "metadata": {
        "id": "4Jea5Tr2ut4_"
      }
    },
    {
      "cell_type": "markdown",
      "source": [
        "### Logic"
      ],
      "metadata": {
        "id": "ffaG4s3euwQ5"
      }
    },
    {
      "cell_type": "markdown",
      "source": [
        "For this section of the project I will be making three propositions."
      ],
      "metadata": {
        "id": "oJlTwRYtuyEc"
      }
    },
    {
      "cell_type": "markdown",
      "source": [
        "1. All Ravens are birds"
      ],
      "metadata": {
        "id": "vND9gvLvvRnE"
      }
    },
    {
      "cell_type": "markdown",
      "source": [
        "2. If anything is a bird, then it has feathers"
      ],
      "metadata": {
        "id": "1XdqG-gpvknP"
      }
    },
    {
      "cell_type": "markdown",
      "source": [
        "3. All writing desks have feathers"
      ],
      "metadata": {
        "id": "i2hz81SivpTX"
      }
    },
    {
      "cell_type": "markdown",
      "source": [
        "The propositions will be named Bird, Feather, and Desk respectively."
      ],
      "metadata": {
        "id": "ZarJYzFWxC5-"
      }
    },
    {
      "cell_type": "markdown",
      "source": [
        "I would say that all these statements are true if we are talking in the scope of when writing desks with quills were used. As for the argument that not all writing desks hav quills, if it doesn't have a quill you can't write, and if you can't write it can hardly be called a writing desk."
      ],
      "metadata": {
        "id": "JPyEUG4LyRMz"
      }
    },
    {
      "cell_type": "markdown",
      "source": [
        "Now I will make some functions for logical computation"
      ],
      "metadata": {
        "id": "8FJ5RuxxybU1"
      }
    },
    {
      "cell_type": "code",
      "source": [
        "def NOT(p):\n",
        "  if p == 1:\n",
        "    p=0\n",
        "  else:\n",
        "    p = 1\n",
        "  return p\n",
        "\n",
        "def AND(p,q):\n",
        "  if p*q == 1:\n",
        "    return 1\n",
        "  else:\n",
        "    return 0\n",
        "\n",
        "def OR(p,q):\n",
        "  if p+q == 0:\n",
        "    return 0\n",
        "  else:\n",
        "    return 1\n",
        "\n",
        "def EXOR(p,q):\n",
        "  if p+q == 0:\n",
        "    return 0\n",
        "  else:\n",
        "    if AND(p,q) == 1:\n",
        "      return 0\n",
        "    else:\n",
        "      return 1\n",
        "\n",
        "def IMPLIES(p,q):\n",
        "  if OR(p,q) == 1:\n",
        "    if q == 0:\n",
        "      return 0\n",
        "    else:\n",
        "      return 1\n",
        "  else:\n",
        "    return 1"
      ],
      "metadata": {
        "id": "BDqCwbqNykTg"
      },
      "execution_count": 6,
      "outputs": []
    },
    {
      "cell_type": "markdown",
      "source": [
        "now to compute some ligical expressions"
      ],
      "metadata": {
        "id": "OGKTWLyd2LYB"
      }
    },
    {
      "cell_type": "code",
      "source": [
        "Bird = 1\n",
        "Feather = 1\n",
        "Desk = 1\n",
        "\n",
        "print(\"All ravens are birds, and if anything is a bird it has feathers:\", AND(Bird,Feather))\n",
        "print(\"If anything is a bird then it has feathers, or all writing desks have feathers:\", OR(Feather,Desk))\n",
        "print(\"If anything is a bird then it has feathers, implies all writing desks have feathers:\", IMPLIES(Feather,Desk))"
      ],
      "metadata": {
        "id": "OR7bsxLB2R3H",
        "outputId": "3a39da4c-957b-41a7-8216-6ff12424fdb7",
        "colab": {
          "base_uri": "https://localhost:8080/"
        }
      },
      "execution_count": 8,
      "outputs": [
        {
          "output_type": "stream",
          "name": "stdout",
          "text": [
            "All ravens are birds, and if anything is a bird it has feathers: 1\n",
            "If anything is a bird then it has feathers, or all writing desks have feathers: 1\n",
            "If anything is a bird then it has feathers, implies all writing desks have feathers: 1\n"
          ]
        }
      ]
    },
    {
      "cell_type": "markdown",
      "source": [
        "Now to make a table for \"not(if all ravens are birds exor if anything is a bird then it has feathers) implies All ravens are birds or all writing desks have feathers\""
      ],
      "metadata": {
        "id": "8a7hQRm14hnR"
      }
    },
    {
      "cell_type": "code",
      "source": [
        "BirdVal = [0,0,0,1,0,1,1,1]\n",
        "FeatherVal = [0,0,1,0,1,0,1,1]\n",
        "DeskVal = [0,1,0,0,1,1,0,1]\n",
        "Bird_EO_Feather = [0,0,0,0,0,0,0,0]\n",
        "Not_Bird_EO_Feather = [0,0,0,0,0,0,0,0]\n",
        "Bird_OR_Desk = [0,0,0,0,0,0,0,0]\n",
        "Final_Implies = [0,0,0,0,0,0,0,0]\n",
        "for index in range(0,8,1):\n",
        "  Bird_EO_Feather[index] = EXOR(BirdVal[index],FeatherVal[index])\n",
        "  Not_Bird_EO_Feather[index] = NOT(EXOR(BirdVal[index],FeatherVal[index]))\n",
        "  Bird_OR_Desk[index] = OR(BirdVal[index],DeskVal[index])\n",
        "  Final_Implies[index] = IMPLIES(Not_Bird_EO_Feather[index],Bird_OR_Desk[index])\n",
        "\n",
        "TruthTableData = {'Bird': BirdVal, 'Feather': FeatherVal, 'Desk': DeskVal, 'Bird EXOR Feather': Bird_EO_Feather, '~(Bird EXOR Feather)': Not_Bird_EO_Feather, 'Bird v Desk':Bird_OR_Desk, '~(Bird EXOR Feather) => (Bird v Desk)':Final_Implies}\n",
        "\n",
        "TruthTable = pd.DataFrame(data=TruthTableData)\n",
        "TruthTable"
      ],
      "metadata": {
        "id": "mkKj6say5uwr",
        "outputId": "42544017-6440-4fc7-c084-055930c246d5",
        "colab": {
          "base_uri": "https://localhost:8080/",
          "height": 300
        }
      },
      "execution_count": 22,
      "outputs": [
        {
          "output_type": "execute_result",
          "data": {
            "text/html": [
              "\n",
              "  <div id=\"df-33db06bf-f664-4dd1-ba55-71b9567ae28c\">\n",
              "    <div class=\"colab-df-container\">\n",
              "      <div>\n",
              "<style scoped>\n",
              "    .dataframe tbody tr th:only-of-type {\n",
              "        vertical-align: middle;\n",
              "    }\n",
              "\n",
              "    .dataframe tbody tr th {\n",
              "        vertical-align: top;\n",
              "    }\n",
              "\n",
              "    .dataframe thead th {\n",
              "        text-align: right;\n",
              "    }\n",
              "</style>\n",
              "<table border=\"1\" class=\"dataframe\">\n",
              "  <thead>\n",
              "    <tr style=\"text-align: right;\">\n",
              "      <th></th>\n",
              "      <th>Bird</th>\n",
              "      <th>Feather</th>\n",
              "      <th>Desk</th>\n",
              "      <th>Bird EXOR Feather</th>\n",
              "      <th>~(Bird EXOR Feather)</th>\n",
              "      <th>Bird v Desk</th>\n",
              "      <th>~(Bird EXOR Feather) =&gt; (Bird v Desk)</th>\n",
              "    </tr>\n",
              "  </thead>\n",
              "  <tbody>\n",
              "    <tr>\n",
              "      <th>0</th>\n",
              "      <td>0</td>\n",
              "      <td>0</td>\n",
              "      <td>0</td>\n",
              "      <td>0</td>\n",
              "      <td>1</td>\n",
              "      <td>0</td>\n",
              "      <td>0</td>\n",
              "    </tr>\n",
              "    <tr>\n",
              "      <th>1</th>\n",
              "      <td>0</td>\n",
              "      <td>0</td>\n",
              "      <td>1</td>\n",
              "      <td>0</td>\n",
              "      <td>1</td>\n",
              "      <td>1</td>\n",
              "      <td>1</td>\n",
              "    </tr>\n",
              "    <tr>\n",
              "      <th>2</th>\n",
              "      <td>0</td>\n",
              "      <td>1</td>\n",
              "      <td>0</td>\n",
              "      <td>1</td>\n",
              "      <td>0</td>\n",
              "      <td>0</td>\n",
              "      <td>1</td>\n",
              "    </tr>\n",
              "    <tr>\n",
              "      <th>3</th>\n",
              "      <td>1</td>\n",
              "      <td>0</td>\n",
              "      <td>0</td>\n",
              "      <td>1</td>\n",
              "      <td>0</td>\n",
              "      <td>1</td>\n",
              "      <td>1</td>\n",
              "    </tr>\n",
              "    <tr>\n",
              "      <th>4</th>\n",
              "      <td>0</td>\n",
              "      <td>1</td>\n",
              "      <td>1</td>\n",
              "      <td>1</td>\n",
              "      <td>0</td>\n",
              "      <td>1</td>\n",
              "      <td>1</td>\n",
              "    </tr>\n",
              "    <tr>\n",
              "      <th>5</th>\n",
              "      <td>1</td>\n",
              "      <td>0</td>\n",
              "      <td>1</td>\n",
              "      <td>1</td>\n",
              "      <td>0</td>\n",
              "      <td>1</td>\n",
              "      <td>1</td>\n",
              "    </tr>\n",
              "    <tr>\n",
              "      <th>6</th>\n",
              "      <td>1</td>\n",
              "      <td>1</td>\n",
              "      <td>0</td>\n",
              "      <td>0</td>\n",
              "      <td>1</td>\n",
              "      <td>1</td>\n",
              "      <td>1</td>\n",
              "    </tr>\n",
              "    <tr>\n",
              "      <th>7</th>\n",
              "      <td>1</td>\n",
              "      <td>1</td>\n",
              "      <td>1</td>\n",
              "      <td>0</td>\n",
              "      <td>1</td>\n",
              "      <td>1</td>\n",
              "      <td>1</td>\n",
              "    </tr>\n",
              "  </tbody>\n",
              "</table>\n",
              "</div>\n",
              "      <button class=\"colab-df-convert\" onclick=\"convertToInteractive('df-33db06bf-f664-4dd1-ba55-71b9567ae28c')\"\n",
              "              title=\"Convert this dataframe to an interactive table.\"\n",
              "              style=\"display:none;\">\n",
              "        \n",
              "  <svg xmlns=\"http://www.w3.org/2000/svg\" height=\"24px\"viewBox=\"0 0 24 24\"\n",
              "       width=\"24px\">\n",
              "    <path d=\"M0 0h24v24H0V0z\" fill=\"none\"/>\n",
              "    <path d=\"M18.56 5.44l.94 2.06.94-2.06 2.06-.94-2.06-.94-.94-2.06-.94 2.06-2.06.94zm-11 1L8.5 8.5l.94-2.06 2.06-.94-2.06-.94L8.5 2.5l-.94 2.06-2.06.94zm10 10l.94 2.06.94-2.06 2.06-.94-2.06-.94-.94-2.06-.94 2.06-2.06.94z\"/><path d=\"M17.41 7.96l-1.37-1.37c-.4-.4-.92-.59-1.43-.59-.52 0-1.04.2-1.43.59L10.3 9.45l-7.72 7.72c-.78.78-.78 2.05 0 2.83L4 21.41c.39.39.9.59 1.41.59.51 0 1.02-.2 1.41-.59l7.78-7.78 2.81-2.81c.8-.78.8-2.07 0-2.86zM5.41 20L4 18.59l7.72-7.72 1.47 1.35L5.41 20z\"/>\n",
              "  </svg>\n",
              "      </button>\n",
              "      \n",
              "  <style>\n",
              "    .colab-df-container {\n",
              "      display:flex;\n",
              "      flex-wrap:wrap;\n",
              "      gap: 12px;\n",
              "    }\n",
              "\n",
              "    .colab-df-convert {\n",
              "      background-color: #E8F0FE;\n",
              "      border: none;\n",
              "      border-radius: 50%;\n",
              "      cursor: pointer;\n",
              "      display: none;\n",
              "      fill: #1967D2;\n",
              "      height: 32px;\n",
              "      padding: 0 0 0 0;\n",
              "      width: 32px;\n",
              "    }\n",
              "\n",
              "    .colab-df-convert:hover {\n",
              "      background-color: #E2EBFA;\n",
              "      box-shadow: 0px 1px 2px rgba(60, 64, 67, 0.3), 0px 1px 3px 1px rgba(60, 64, 67, 0.15);\n",
              "      fill: #174EA6;\n",
              "    }\n",
              "\n",
              "    [theme=dark] .colab-df-convert {\n",
              "      background-color: #3B4455;\n",
              "      fill: #D2E3FC;\n",
              "    }\n",
              "\n",
              "    [theme=dark] .colab-df-convert:hover {\n",
              "      background-color: #434B5C;\n",
              "      box-shadow: 0px 1px 3px 1px rgba(0, 0, 0, 0.15);\n",
              "      filter: drop-shadow(0px 1px 2px rgba(0, 0, 0, 0.3));\n",
              "      fill: #FFFFFF;\n",
              "    }\n",
              "  </style>\n",
              "\n",
              "      <script>\n",
              "        const buttonEl =\n",
              "          document.querySelector('#df-33db06bf-f664-4dd1-ba55-71b9567ae28c button.colab-df-convert');\n",
              "        buttonEl.style.display =\n",
              "          google.colab.kernel.accessAllowed ? 'block' : 'none';\n",
              "\n",
              "        async function convertToInteractive(key) {\n",
              "          const element = document.querySelector('#df-33db06bf-f664-4dd1-ba55-71b9567ae28c');\n",
              "          const dataTable =\n",
              "            await google.colab.kernel.invokeFunction('convertToInteractive',\n",
              "                                                     [key], {});\n",
              "          if (!dataTable) return;\n",
              "\n",
              "          const docLinkHtml = 'Like what you see? Visit the ' +\n",
              "            '<a target=\"_blank\" href=https://colab.research.google.com/notebooks/data_table.ipynb>data table notebook</a>'\n",
              "            + ' to learn more about interactive tables.';\n",
              "          element.innerHTML = '';\n",
              "          dataTable['output_type'] = 'display_data';\n",
              "          await google.colab.output.renderOutput(dataTable, element);\n",
              "          const docLink = document.createElement('div');\n",
              "          docLink.innerHTML = docLinkHtml;\n",
              "          element.appendChild(docLink);\n",
              "        }\n",
              "      </script>\n",
              "    </div>\n",
              "  </div>\n",
              "  "
            ],
            "text/plain": [
              "   Bird  Feather  ...  Bird v Desk  ~(Bird EXOR Feather) => (Bird v Desk)\n",
              "0     0        0  ...            0                                      0\n",
              "1     0        0  ...            1                                      1\n",
              "2     0        1  ...            0                                      1\n",
              "3     1        0  ...            1                                      1\n",
              "4     0        1  ...            1                                      1\n",
              "5     1        0  ...            1                                      1\n",
              "6     1        1  ...            1                                      1\n",
              "7     1        1  ...            1                                      1\n",
              "\n",
              "[8 rows x 7 columns]"
            ]
          },
          "metadata": {},
          "execution_count": 22
        }
      ]
    },
    {
      "cell_type": "markdown",
      "source": [
        "Notice that if any of the propositions are true, the far right statement is true which is logically equivalent to Bird or Feather or Desk"
      ],
      "metadata": {
        "id": "bHJ0DuvKbsVZ"
      }
    }
  ]
}